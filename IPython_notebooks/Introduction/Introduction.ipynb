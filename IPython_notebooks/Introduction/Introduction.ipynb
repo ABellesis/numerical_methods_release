{
 "cells": [
  {
   "cell_type": "markdown",
   "metadata": {},
   "source": [
    "# Welcome to using Python! <a id='welcome'></a>\n",
    "\n",
    "In addition to an introduction to numerical methods theory, understanding their implementation is also a focus of these notebooks. To that end, the notebooks consist of text blocks describing the theory of the method, followed by code blocks implementing the theory with the Python programming language. Before introducing you to theory and programming at the same time, let us become familiar with some Python basics.\n",
    "\n",
    "Table of Contents:\n",
    "1. [Basics](#basics) \n",
    "2. [Libraries](#library) \n",
    "3. [Data Types](#data_type)\n",
    "4. [Mathematical Operations](#math) \n",
    "5. [Defining Functions](#functions)\n",
    "6. [Conditional Statements](#conditions)\n",
    "7. [Bringing Them All Together](#all)"
   ]
  },
  {
   "cell_type": "markdown",
   "metadata": {},
   "source": [
    "# Basics  <a id='basics'></a>\n",
    "\n",
    "Here we will cover how to run the code blocks of this notebook, assigning variables, and code comments.\n",
    "\n",
    "###  Running the Code blocks\n",
    "Throughout the notebook you will run into cells which contain Python code. This code is intended to be run by you! To do so, click the play/run button found in the toolbar at the top of this page.\n",
    "\n",
    "### Assigning Variables\n",
    "We often have specific numbers or characters we wish to refer to and/or manipulate multiple times. In coding, it is convienint to assign values to variables, which allows us to code quickly and reduce the risk of input errors. As an example, let's say we wanted to perform a bunch of different calculations of the number $6.75892$. Instead of typing this out each time we can assign it to a variable called \n",
    "`x`. We do this as below:\n",
    "\n",
    "`` x = 6.75892 ``\n",
    "\n",
    "Now, throughout our code we can refer to this number as 'x'. You can name your variables anything you want as long as they don't conatain spaces or special characters (excluding underscores). As above, to assign a value to a speicifc variable you just place the variable name on the left hand side of an equal sign and the variable you want to assign on the right hand side.\n",
    "\n",
    "\n",
    "### Code Comments\n",
    "When writing code, sometimes you will want to provide notes about the purpose of a particular section of code. These comments on the code can serve as a reminder for you or others using the code.  \n",
    "In many coding languages, you can insert text  that will be ignored by inserting certain characters. For Python, if we begin a line of code with a pound symbol (#), the text  will be ignored, allowing us to write notes to ourselves.\n",
    "\n",
    "\n",
    "```\n",
    "# This code performs the multiplication of two variables.\n",
    "x = 6.5\n",
    "y = 7.63\n",
    "x*y\n",
    "\n",
    "```\n",
    "\n",
    "In this code above, the first line is just information, while the following three lines are instructions for the computer to run."
   ]
  },
  {
   "cell_type": "markdown",
   "metadata": {},
   "source": [
    "# Libraries <a id='library'></a>\n",
    "\n",
    "Python has many default capabilities; however, much of Python's power is accessed through the inclusion of external libraries. Some of these libraries are essential for doing scientific calculations (Numpy, Sympy, and Scipy). Other libraries are used to visualize our data and create plots, such as Matplotlib. \n",
    "\n",
    "The way that we do this is by putting an **```include```** line at the top of our script. The best coding practice is importing each library with a specific abbreviated name, which ensures  the program to refer to the library specifically each time you want to call a function from that library. This avoids ambiguity when two libraries have functions that share the same name.\n",
    "\n",
    "\n",
    "In the example below, the first line imports a library called Numpy. The varibale **`numpy_estimate`** stores the square root of two as calculated by Numpy. Run the script below, by pressing the play button in the top toolbar of the notebook. The result is printed by the command on line 6."
   ]
  },
  {
   "cell_type": "code",
   "execution_count": null,
   "metadata": {
    "collapsed": true
   },
   "outputs": [],
   "source": [
    "import numpy as np\n",
    "\n",
    "number_to_evaluate = 2\n",
    "numpy_estimate = np.sqrt(number_to_evaluate)\n",
    "\n",
    "print('numpy estimate: {}\\n'.format(numpy_estimate))\n"
   ]
  },
  {
   "cell_type": "markdown",
   "metadata": {},
   "source": [
    "[Back to top](#welcome)"
   ]
  },
  {
   "cell_type": "markdown",
   "metadata": {},
   "source": [
    "Throughout these numerical method notebooks, many libraries will be used and will be introduced as required. For this notebook, we wrote our own small library to help you check some answers within the notebook.\n",
    "\n",
    "---------------------\n",
    "## **MAKE SURE TO RUN THE CODE BLOCK BELOW**\n",
    "---------------------"
   ]
  },
  {
   "cell_type": "code",
   "execution_count": null,
   "metadata": {
    "collapsed": true
   },
   "outputs": [],
   "source": [
    "import test_answers as tes"
   ]
  },
  {
   "cell_type": "markdown",
   "metadata": {},
   "source": [
    "## Data types <a id='data_type'></a>\n",
    "\n",
    "There are a few different data types we need to be aware of:\n",
    "1. integers or ints\n",
    "    * whole numbers (...,-2,-1,0,1,2,...) \n",
    "2. floating point\n",
    "    * decimal number (1.2, -0.4, 1.0, -5.18273)\n",
    "3. strings\n",
    "    * a collection of characters to be stored as text\n",
    "    * always expressed within quotes ('dog', 'three', '1.2')\n",
    "    * NOTE: Unlike ints and floats, math cannot be performed with strings. If you try \"1.2\"\\*2 , the string \"1.2\" will be repeated two times resulting in \"1.21.2\".\n",
    " \n",
    "4. lists/arrays\n",
    "    * a set of some other variable type.\n",
    "    * represented within a set of square brakets\n",
    "    * can be ints (`[1,2,3,4]`), floats(`[1.2, 3.4, 7.0, .5]`), or strings ( `['proton', 'neutron', 'electron']`)\n",
    "\n",
    "If you are ever coding and need to figure out what type a specific variable is, you can always use the command \"`type(variable_name)`\". Below we have a variable x"
   ]
  },
  {
   "cell_type": "code",
   "execution_count": null,
   "metadata": {
    "collapsed": true
   },
   "outputs": [],
   "source": [
    "# set x to a float value\n",
    "x=\n",
    "#the line below will call a function to check your answer. Do not change it!\n",
    "tes.check_x(x)"
   ]
  },
  {
   "cell_type": "code",
   "execution_count": null,
   "metadata": {
    "collapsed": true
   },
   "outputs": [],
   "source": [
    "# set x to a int value\n",
    "y=\n",
    "#the line below will call a function to check your answer. Do not change it!\n",
    "tes.check_y(y)"
   ]
  },
  {
   "cell_type": "code",
   "execution_count": null,
   "metadata": {
    "collapsed": true
   },
   "outputs": [],
   "source": [
    "# set z to an str value\n",
    "z=\n",
    "#the line below will call a function to check your answer. Do not change it!\n",
    "tes.check_z(z)"
   ]
  },
  {
   "cell_type": "markdown",
   "metadata": {},
   "source": [
    "[Back to top](#welcome)"
   ]
  },
  {
   "cell_type": "markdown",
   "metadata": {},
   "source": [
    "# Mathematical Operations <a id='math'></a>\n",
    "\n",
    "There are also a collection of mathematical operations you will see throughout the notebooks. The table below summarizes them. \n",
    "\n",
    "| symbol        | operation     |\n",
    "| ------------- |:-------------:|\n",
    "| +             | addition      |\n",
    "| -             | subtraction   |\n",
    "| *             | multiplication|\n",
    "| /             | division      |\n",
    "| **            | exponentiate  |\n",
    "| %             | modulo        |\n",
    "\n",
    "The only one that may not be intuitive is the modulus operation, %. This will return the integer remainder of dividing two numbers. An example is shown below. \n"
   ]
  },
  {
   "cell_type": "code",
   "execution_count": null,
   "metadata": {
    "collapsed": true
   },
   "outputs": [],
   "source": [
    "var_add = 4+3\n",
    "print('addition: {}'.format(var_add))\n",
    "\n",
    "var_subtract = 4-3\n",
    "print('subtraction: {}'.format(var_subtract))\n",
    "\n",
    "var_multiply = 4*3\n",
    "print('multiplication: {}'.format(var_multiply))\n",
    "\n",
    "var_divide = 4/3\n",
    "print('division: {}'.format(var_divide))\n",
    "\n",
    "var_exponent= 4**3\n",
    "print('exponentiation: {}'.format(var_exponent))\n",
    "\n",
    "var_modulus = 4%3\n",
    "print('remainder: {}'.format(var_modulus))"
   ]
  },
  {
   "cell_type": "markdown",
   "metadata": {},
   "source": [
    "**NOTE to Python 2 uers:** You  will notice **``var_divide``** returns 0. This is because it handles int division by storing only the whole number value. This behavior is no longer default in Python Versions >3, but you should still be aware as it can cause unexpected problems when programming. To get this to work correctly, simply add a decimal point after the numbers (`var_divide = 4./3.`)."
   ]
  },
  {
   "cell_type": "markdown",
   "metadata": {},
   "source": [
    "## Your Task!\n",
    "set the variables below according to the instructions:\n",
    "1. assign the variable '**``var_add``**' to the sum of 1745 and 8765.1\n",
    "2. assign the variable '**``var_subtract``**' as the difference between 4587.6 and 423.9 \n",
    "3. assign the variable '**``var_multiply``**' to 54 multiplied by 76\n",
    "4. assign the variable '**``var_divide``**' to 76 divided by 9\n",
    "5. assign the variable '**``var_exponent``**' to 37 raised to the 6 power\n",
    "6. assign the varaible '**``var_modulus``**' to return the remainder of 87 divided by 6.9\n"
   ]
  },
  {
   "cell_type": "code",
   "execution_count": null,
   "metadata": {
    "collapsed": true
   },
   "outputs": [],
   "source": [
    "var_add = \n",
    "var_subtract = \n",
    "var_multiply =\n",
    "var_divide =\n",
    "var_exponent =\n",
    "var_modulus = \n",
    "\n",
    "#the line below will call a function to check your answer. Do not change it!\n",
    "tes.check_math_operation(var_add,var_subtract,var_multiply,var_divide,var_exponent,var_modulus)"
   ]
  },
  {
   "cell_type": "markdown",
   "metadata": {},
   "source": [
    "# Parentheses\n",
    "\n",
    "As when working with graphing calculators or excel, parentheses are used to direct your precdence of calculations, otherwise the order of operations is followed. \n"
   ]
  },
  {
   "cell_type": "code",
   "execution_count": null,
   "metadata": {
    "collapsed": true
   },
   "outputs": [],
   "source": [
    "#parentheses\n",
    "\n",
    "try1=(4+3)/5+(6*9)/(3+2)\n",
    "try2=4+3/5+6*9/3+2\n",
    "print(try1)\n",
    "print(try2)"
   ]
  },
  {
   "cell_type": "markdown",
   "metadata": {},
   "source": [
    "## Your task!\n",
    "\n",
    "Try coding the following expression, utilizing parenthesis. \n",
    "\n",
    "$$\\frac{8+9^{2+5}}{6-5*7}$$"
   ]
  },
  {
   "cell_type": "code",
   "execution_count": null,
   "metadata": {
    "collapsed": true
   },
   "outputs": [],
   "source": [
    "#code your attempt below\n",
    "answer=\n",
    "\n",
    "#This will check your answer, do not change.\n",
    "tes.check_parentheses(answer)"
   ]
  },
  {
   "cell_type": "markdown",
   "metadata": {},
   "source": [
    "[Back to top](#welcome)"
   ]
  },
  {
   "cell_type": "markdown",
   "metadata": {},
   "source": [
    "# Defining Functions  <a id='functions'></a>\n",
    "\n",
    "As you might be able to see in the last section, it could get cumbersome to retype the same operations multiple times with different numbers. Lucky for us, in Python and all other coding languages, you can define a function that will read in variables, perform a specified operation, and return the end result. This saves us the time of typing it out  every time and also avoids possible input errors that accompany that process.\n",
    "\n",
    "Function definitions are usually given at the beginning of a script after importing libraries. An example function is given below representing the result of\n",
    "$$ y\\ =\\ x_1*\\sqrt{\\frac{x_2}{x_1+x_2}}$$"
   ]
  },
  {
   "cell_type": "code",
   "execution_count": null,
   "metadata": {
    "collapsed": true
   },
   "outputs": [],
   "source": [
    "def example_function(x1, x2):\n",
    "    answer = x1*np.sqrt(x2/(x1+x2))\n",
    "    return answer"
   ]
  },
  {
   "cell_type": "markdown",
   "metadata": {},
   "source": [
    "To begin a function definition, type **`def`** followed by the name of the function, in our case **`example_function`**. The parantheses after the function name will contain the arguments that will be passed to the function when it is called. Our function takes two variables, **`x1`** and **`x2`**. Everything indented under the **`def`** statement will be done each  time the function is called. The final line returns the result of the calculation.\n",
    "\n",
    "We will print the output of our function in the cell below using 3 as **`x1`** and 5 as **`x2`**."
   ]
  },
  {
   "cell_type": "code",
   "execution_count": null,
   "metadata": {
    "collapsed": true
   },
   "outputs": [],
   "source": [
    "print(example_function(3, 5))"
   ]
  },
  {
   "cell_type": "markdown",
   "metadata": {},
   "source": [
    "# Conditionals <a id='conditions'></a>\n",
    "\n",
    "Often times it is necessary to run the same few lines of code multiple times. This repetition can be done until certain criteria are met. Alternatively, we could execute  a piece of code if a certain condition is met. To accomplish these goals, there a few different tools we can use. Today we will cover three:\n",
    "\n",
    "1. for loops\n",
    "2. while loops\n",
    "3. if statements\n",
    "\n",
    "\n",
    "In general, **indentation** of your code will be extremely important. In Python, indentation tells the computer what is included in your conditional statment. "
   ]
  },
  {
   "cell_type": "markdown",
   "metadata": {
    "collapsed": true
   },
   "source": [
    "# For Loop\n",
    "**For loops** repeat a piece of code for a certain number of iterations. This number can be set manually or  until a condition is met. The general structure can be seen below:\n",
    "\n",
    "```\n",
    "for specific_value in (range_of_values):\n",
    "    repeat this code \n",
    "```\n",
    "\n",
    "\n",
    "In the above example, **`specific_value`** will be one particular value, and **`range_of_values`** is exactly what it sounds like, a range of values. These values can be of many forms (lists of strings, floats, integers), but we will explore that a bit later.\n",
    "\n",
    "Let us look at a few examples! First, let's see the simplest example of a for loop. *You do not have to add any lines of code, just run the cell and observe the output.* What value does **`i`** start at? What value does **`i`** end at?"
   ]
  },
  {
   "cell_type": "code",
   "execution_count": null,
   "metadata": {
    "collapsed": true
   },
   "outputs": [],
   "source": [
    "start = 0\n",
    "end = 7\n",
    "step_size = 1\n",
    "for i in range(start,end,step_size):\n",
    "    print(i)"
   ]
  },
  {
   "cell_type": "markdown",
   "metadata": {
    "collapsed": true
   },
   "source": [
    "We are using a specific function called ``**range()**``, which takes the first value (**``start``**) as the beginning of the range, the second argument (**``end``**) is the number we generate up to, but not including. The third argument(**``step_size``**)  is the space between one number and the next. Here, notice that **`i`** takes on a specific value in the range of 7.  \n",
    "\n",
    "## Your Task!\n",
    "Write your own for loop in the cell below that repeatedly prints the value of **`i`** a total of 26 times. Remember to incorporate what we learned about how Python counts! \n",
    "1. assign the number 26 to the variable range of values\n",
    "2. copy the structure of the for loop above so we can print the value of **`i`** for each value between 0 and 26, but not including 26.\n",
    "\n",
    "Once completed or if you get stuck: Ask an instructor to check your work!"
   ]
  },
  {
   "cell_type": "code",
   "execution_count": null,
   "metadata": {
    "collapsed": true
   },
   "outputs": [],
   "source": [
    "#Your code here!\n",
    "start = \n",
    "end = \n",
    "step_size = \n",
    "#write the for loop here:\n",
    "\n"
   ]
  },
  {
   "cell_type": "markdown",
   "metadata": {
    "collapsed": true
   },
   "source": [
    "We can also use a for loop to do math! Let’s say we wanted to repeat the same mathematical expression 12 times in a row. Would you like to code the same thing 12 times? Even if we  copy and paste that code twelve times, if you found an error, you would have to fix that error everywhere! Let’s look at an example.\n",
    "\n",
    "Below we will learn about:\n",
    "1. Performing some math in a for loop\n",
    "2. One way to iterate in reverse for a for loop."
   ]
  },
  {
   "cell_type": "code",
   "execution_count": null,
   "metadata": {
    "collapsed": true
   },
   "outputs": [],
   "source": [
    "start = 12\n",
    "end = 0 \n",
    "step_size = -1\n",
    "for i in range(start,end,step_size):\n",
    "    value = i**2\n",
    "    print('The square of {} is {}'.format(i,value))\n"
   ]
  },
  {
   "cell_type": "markdown",
   "metadata": {
    "collapsed": true
   },
   "source": [
    "## Your task!\n",
    "1. Copy the code from above.\n",
    "2. Adapt the variables to start at 10, end at 0, and decrease by two each time.\n",
    "3. Within the loop, instead of printing $i^2$, code value to equal $i^{3+i} + 4$.\n",
    "4. Can you also adapt the print statement to read \"the result of our calculation involving `i` is `value`\"?\n",
    "\n",
    "Hint:\n",
    "* remember what we learned about parenthesis\n"
   ]
  },
  {
   "cell_type": "code",
   "execution_count": null,
   "metadata": {
    "collapsed": true
   },
   "outputs": [],
   "source": [
    "# Your code here\n",
    "\n",
    "#The line below checks some parts of your code. Please do not change it\n",
    "tes.check_forloop1(start,end,step_size,value)"
   ]
  },
  {
   "cell_type": "markdown",
   "metadata": {},
   "source": [
    "## For Loop: indexing lists\n",
    "\n",
    "For Loop: indexing lists\n",
    "For loops can help us with math, but they can also be useful with strings. For instance, for loops can be used to iterate through lists, strings, or of any other data type. The example below works nearly identical to that above: **`i`** takes on a numerical value and we can then use that to access a specific entry in the list. This is accomplished because the position of a value in a list is one way to access that value.\n",
    ". \n",
    "\n",
    "for example if we had a list of names called name_list:\n",
    "\n",
    "```\n",
    "name_list = ['Schrodinger','Einstein', 'Kirchoff','Planck','Heisenberg']\n",
    "\n",
    "```\n",
    "We can say that Schrodinger is the first position in the list, while Planck is the fourth. You can do this in Python too! However, Python labels the first position as 0 instead of 1. \n",
    "\n",
    "Run the code block below to see how this works *You do not need to add lines in the code, simply run it and observe the outcome.* How do we index a list?"
   ]
  },
  {
   "cell_type": "code",
   "execution_count": null,
   "metadata": {
    "collapsed": true
   },
   "outputs": [],
   "source": [
    "name_list = ['Schrodinger','Einstein', 'Kirchoff','Planck','Heisenberg']\n",
    "for i in range(0,4,1):\n",
    "    print(i)\n",
    "    print(name_list[i])"
   ]
  },
  {
   "cell_type": "markdown",
   "metadata": {},
   "source": [
    "In the next example the variable `i` takes the value of name in the list. The code contained within the loop simply prints the name.\n",
    "\n",
    "Run the code block below to see how this works *You do not need to add lines in the code, simply run it and observe the outcome.* In your own words, how does this differ to what we did before?"
   ]
  },
  {
   "cell_type": "code",
   "execution_count": null,
   "metadata": {
    "collapsed": true
   },
   "outputs": [],
   "source": [
    "name_list = ['Schrodinger','Einstein', 'Kirchoff','Planck','Heisenberg']\n",
    "for i in name_list:\n",
    "    print(i)"
   ]
  },
  {
   "cell_type": "markdown",
   "metadata": {},
   "source": [
    "# While loops\n",
    "\n",
    "While loops are used to repeat a block of code until a certain criteria is met. \n",
    "\n",
    "```\n",
    "while some codition is/is not met:\n",
    "    do some task\n",
    "```\n",
    "\n",
    "In the example below, the code inside the loop adds two to the value of x. We want to repeat this while x is less than 24. Run the code block below to see how this works *You do not need to add lines in the code, simply run it and observe the outcome* What is the last value printied in this loop? Does that make sense to you?"
   ]
  },
  {
   "cell_type": "code",
   "execution_count": null,
   "metadata": {
    "collapsed": true
   },
   "outputs": [],
   "source": [
    "x=0\n",
    "while x < 24:\n",
    "    x+=2\n",
    "    print(x)"
   ]
  },
  {
   "cell_type": "markdown",
   "metadata": {},
   "source": [
    "# If statements\n",
    "\n",
    "If statements fairly simple in that you can interpret them just like reading English. Let's look at the following example\n",
    "\n",
    "```\n",
    "if condition_met:\n",
    "    execute this piece of code\n",
    "```\n",
    "We start the if statment with the word **`if`**, followed by the condition we want to test. If the condition is met, the indented code will be executed. If the condition is not met it will be skipped over. Let's apply it in the code block below. \n",
    "\n",
    "Play around with the value of x to see how the if statement behaves. What happens when x is equal to 0? Change the value of x to 2, 5, and 9 to see what happens."
   ]
  },
  {
   "cell_type": "code",
   "execution_count": null,
   "metadata": {
    "collapsed": true
   },
   "outputs": [],
   "source": [
    "x = 0\n",
    "if (x < 5):\n",
    "    print('The condition was met, the value of x is {}'.format(x))\n"
   ]
  },
  {
   "cell_type": "markdown",
   "metadata": {},
   "source": [
    "We can also incorporate else statements. They compliment **`if`** statements and can be read in much the same way. Again, let us look at  an example.\n",
    "\n",
    "```\n",
    "if condition_met:\n",
    "    execute this piece of code\n",
    "elif second_condition_met:\n",
    "    execute this piece of code\n",
    "else:\n",
    "    execute this other piece of code \n",
    "```\n",
    "\n",
    "\n",
    "In this example, we have an if statement that tests a certain condition. If that condition is met, we already know what happens! The line of code beneath it is executed. However, what we have included now is a line of code that is excuted if our condition is not met.\n",
    "\n",
    "The below example will demonstrate how we can improve the if statement we experimented with above. Again play around with this piece of code, setting x to the values of 0, 2, 5, and 7."
   ]
  },
  {
   "cell_type": "code",
   "execution_count": null,
   "metadata": {
    "collapsed": true
   },
   "outputs": [],
   "source": [
    "x = 0\n",
    "if (x < 5):\n",
    "    print('The first condition was met, the value of x is {}'.format(x))\n",
    "elif (x ==5):\n",
    "    print('The second condition was met, the value of x is {}'.format(x))\n",
    "else:\n",
    "    print('Neither condition was met')"
   ]
  },
  {
   "cell_type": "markdown",
   "metadata": {},
   "source": [
    "#### A few things to notice:\n",
    "1. We are again using formatted printing to print some helpful output. \n",
    "2. If we want to see that a value is exactly equal to another value we use `'=='`. We could test if somethings was not equal by using `'!='`"
   ]
  },
  {
   "cell_type": "markdown",
   "metadata": {},
   "source": [
    "Let's get some practice with if statements\n",
    "\n",
    "## Your Task!\n",
    "We want to write a for loop that checks if a number is postive, negative, or zero.\n",
    "\n",
    "We have started a code below. You need to incorporate the following \n",
    "1. Replace the '#1' with code to check if the the variable x is exactly zero.\n",
    "2. The first print statment will be called when the variable is exactly zero. Replace the '#2' with an informative print statment.\n",
    "3. The **`elif`** statement needs to check if a number is greater than 0. Replace '#3' with the appropriate line of code.\n",
    "4. Replace \\#4 with a print satement saying the number is positive \n",
    "4. If a variable makes it to the **`else`** statment, it means it is neither exactly zero or > 0. replace '#5' with an informative print statement."
   ]
  },
  {
   "cell_type": "code",
   "execution_count": null,
   "metadata": {
    "collapsed": true
   },
   "outputs": [],
   "source": [
    "num = 2 \n",
    "if #1: #write this line check if the number is exactly zero\n",
    "    print(\"#2\") #rewrite this line to print an informative statement\n",
    "elif #3: \n",
    "    print(\"#4\") #rewrite this line to print an informative statement\n",
    "else:\n",
    "    print(\"#5\") #rewrite this line to print an informative statement\n"
   ]
  },
  {
   "cell_type": "markdown",
   "metadata": {},
   "source": [
    "[Back to top](#welcome)"
   ]
  },
  {
   "cell_type": "markdown",
   "metadata": {},
   "source": [
    "# Bringing it all together  <a id='all'></a>\n",
    "\n",
    "## First challenge \n",
    "Goal: For a list of numbers, we want to iterate through them and output an informative message if the number is even or not.\n",
    "\n",
    "Here is the framework of the code:\n",
    "```\n",
    "for i in list_of_numbers\n",
    "    if i is even:\n",
    "        print a message saying it is even\n",
    "    else: \n",
    "        print a message saying the number is odd\n",
    "```\n",
    "## Your Task!\n",
    "1. set a variable for a list of numbers you would like to test\n",
    "2. copy framework code into cell below.\n",
    "3. adapt the code to test if the number is even or odd\n",
    "4. adapt the code to print out informative messages to the screen.\n",
    "\n",
    "Hint:\n",
    "* The modulo function from last session may be helpful for this! If you forget how to this works, you can first use the code block to test modulo. Type `6%2` and `5%2` and observe the output. If you need clarification, ask any of the instructors!\n"
   ]
  },
  {
   "cell_type": "code",
   "execution_count": null,
   "metadata": {
    "collapsed": true
   },
   "outputs": [],
   "source": [
    "#your code here"
   ]
  }
 ],
 "metadata": {
  "kernelspec": {
   "display_name": "Python 3",
   "language": "python",
   "name": "python3"
  },
  "language_info": {
   "codemirror_mode": {
    "name": "ipython",
    "version": 3
   },
   "file_extension": ".py",
   "mimetype": "text/x-python",
   "name": "python",
   "nbconvert_exporter": "python",
   "pygments_lexer": "ipython3",
   "version": "3.6.4"
  }
 },
 "nbformat": 4,
 "nbformat_minor": 2
}
