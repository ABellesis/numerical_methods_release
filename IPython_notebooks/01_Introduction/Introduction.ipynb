{
 "cells": [
  {
   "cell_type": "markdown",
   "metadata": {},
   "source": [
    "# 1. Welcome to Numerical Methods for Chemists using Python! <a id='welcome'></a>\n",
    "\n",
    "In addition to an introduction to the theory of numerical methods, understanding their implementation is also a focus of these notebooks. To that end, the notebooks consist of text blocks describing the theory of the method, followed by code blocks implementing the theory expressed in the Python language. The objective of this first notebook is to familiarize the student with Python basics.\n",
    "\n",
    "Table of Contents:\n",
    "1. [Basics](#basics) \n",
    "2. [Libraries](#library) \n",
    "3. [Data Types](#data_type)\n",
    "4. [Mathematical Operations](#math) \n",
    "5. [Defining Functions](#functions)\n",
    "6. [Conditional Statements](#conditions)\n",
    "7. [Bringing Them All Together](#all)"
   ]
  },
  {
   "cell_type": "markdown",
   "metadata": {},
   "source": [
    "# Basics  <a id='basics'></a>\n",
    "\n",
    "Here we will cover how to run the code blocks of this notebook, assigning variables, and code comments.\n",
    "\n",
    "###  Running the Code blocks\n",
    "Throughout the notebook you will see gray cells which contain Python code. This code is intended to be run by you! To do so, click the play/run button found in the toolbar at the top of this page. For practice, run the code block below.\n",
    "\n"
   ]
  },
  {
   "cell_type": "code",
   "execution_count": 1,
   "metadata": {},
   "outputs": [
    {
     "name": "stdout",
     "output_type": "stream",
     "text": [
      "4\n"
     ]
    }
   ],
   "source": [
    "x = 4\n",
    "print(x)"
   ]
  },
  {
   "cell_type": "markdown",
   "metadata": {},
   "source": [
    "The left margin of each code cell is `In [ ]:`. This gives us the status of the code block. By default, `In [ ]:` indicates the cell has not been run. If the code cell is running `In [*]:` will be displayed. Once complete, a number will be shown within the bracket representing the order the cell was executed within the notebook. Thus after the code cell above was executed, you should see `In [1]:`.\n",
    "\n",
    "### Assigning Variables\n",
    "When writing code, one may refer to or manipulate specific numbers or characters multiple times. As the above example shows, it is possible to assign values to variables, which allows one to code quickly and reduce the risk of input errors. As a second example, let's say a piece of code is written to perform a many different calculations of the number $6.75892$. Instead of typing this out each time, it can be assigned to the variable `my_var` as shown below:\n",
    "\n",
    "`` my_var = 6.75892 ``\n",
    "\n",
    "Now, throughout the code 'my_var' will refer to the number 6.75892. You can name your variables anything you want as long as they do not contain spaces or special characters (excluding underscores). As above, to assign a value to a specific variable, place the variable name on the left hand side of an equal sign and the value you want to assign on the right hand side.\n",
    "\n",
    "### Code Comments\n",
    "When writing code, sometimes you will want to provide notes about the purpose of a particular section of code. These comments on the code can serve as a reminder for you or others using the code.  \n",
    "In many coding languages, you can insert text  that will be ignored by inserting certain characters. For Python, if we begin a line of code with a pound symbol (#), the text  will be ignored, allowing us to write notes to ourselves.\n",
    "\n",
    "In this code below, the first line is a comment with information, while the following three lines are instructions for the computer to run."
   ]
  },
  {
   "cell_type": "code",
   "execution_count": 2,
   "metadata": {},
   "outputs": [
    {
     "data": {
      "text/plain": [
       "49.595"
      ]
     },
     "execution_count": 2,
     "metadata": {},
     "output_type": "execute_result"
    }
   ],
   "source": [
    "# This code performs the multiplication of two variables.\n",
    "x = 6.5\n",
    "y = 7.63\n",
    "x*y"
   ]
  },
  {
   "cell_type": "markdown",
   "metadata": {},
   "source": [
    "# Libraries <a id='library'></a>\n",
    "\n",
    "Python has many internal capabilities; however, much of Python's power is accessed through the inclusion of external libraries. Some of these libraries are essential for doing scientific calculations (e.g. Numpy, Sympy, and Scipy). Other libraries are used to visualize our data and create plots, such as Matplotlib. \n",
    "\n",
    "The way a library is incorporated is by an `import` line at the top of the script for each library you want to import. The best coding practice is importing each library with a specific abbreviated name, which ensures the program to refer to the particular library each time that a function from that library is called. This avoids ambiguity when two libraries have functions that share the same name.\n",
    "\n",
    "In the example below, the first line imports a library called Numpy. The variable `numpy_estimate` stores the square root of two as evaluated by Numpy. Run the script below, by pressing the play button in the top toolbar of the notebook. The result is printed by the command on line 6."
   ]
  },
  {
   "cell_type": "code",
   "execution_count": 3,
   "metadata": {},
   "outputs": [
    {
     "name": "stdout",
     "output_type": "stream",
     "text": [
      "numpy estimate: 1.4142135623730951\n",
      "\n"
     ]
    }
   ],
   "source": [
    "import numpy as np\n",
    "\n",
    "number_to_evaluate = 2\n",
    "numpy_estimate = np.sqrt(number_to_evaluate)\n",
    "\n",
    "print('numpy estimate: {}\\n'.format(numpy_estimate))\n"
   ]
  },
  {
   "cell_type": "markdown",
   "metadata": {},
   "source": [
    "[Back to top](#welcome)"
   ]
  },
  {
   "cell_type": "markdown",
   "metadata": {},
   "source": [
    "Throughout these numerical method notebooks, relevant libraries will be imported in the first block of the notebook. For this notebook, we wrote the test_answers library to check your progress as you work through the notebook.\n",
    "\n",
    "---------------------\n",
    "## **MAKE SURE TO RUN THE CODE BLOCK BELOW**\n",
    "---------------------"
   ]
  },
  {
   "cell_type": "code",
   "execution_count": 4,
   "metadata": {},
   "outputs": [],
   "source": [
    "import test_answers as tes"
   ]
  },
  {
   "cell_type": "markdown",
   "metadata": {},
   "source": [
    "## Data types <a id='data_type'></a>\n",
    "\n",
    "There are a few different data types we need to be aware of:\n",
    "1. integers or ints\n",
    "    * numbers without decimals (...,-2,-1,0,1,2,...) \n",
    "2. floating point\n",
    "    * decimal number (1.2, -0.4, 1.0, -5.18273)\n",
    "3. strings\n",
    "    * a collection of characters to be stored as text\n",
    "    * always expressed within quotes ('dog', 'three', '1.2')\n",
    "    * NOTE: Unlike ints and floats, math cannot be performed with strings. If you try \"1.2\"\\*2 , the string \"1.2\" will be repeated two times resulting in \"1.21.2\".\n",
    " \n",
    "4. lists/arrays\n",
    "    * a set of the above variable type.\n",
    "    * represented within square brakets\n",
    "    * can be ints (`[1,2,3,4]`), floats(`[1.2, 3.4, 7.0, .5]`), or strings ( `['proton', 'neutron', 'electron']`)\n",
    "\n",
    "## Your Task!\n",
    "\n",
    "Demonstrate that you understand the meaning of data types by editing the code block below. To the right of the equal signs, assign the particular data type requested. Once you have typed your answer, run the cell to check your answer."
   ]
  },
  {
   "cell_type": "code",
   "execution_count": 9,
   "metadata": {},
   "outputs": [
    {
     "name": "stdout",
     "output_type": "stream",
     "text": [
      "Your x-value is not a float. Try again!\n"
     ]
    }
   ],
   "source": [
    "# set x to a float value\n",
    "x=\n",
    "#the line below will call a function to check your answer. Do not change it!\n",
    "tes.check_x(x)"
   ]
  },
  {
   "cell_type": "code",
   "execution_count": 8,
   "metadata": {},
   "outputs": [
    {
     "name": "stdout",
     "output_type": "stream",
     "text": [
      "Your y-value is not an int. Try again!\n"
     ]
    }
   ],
   "source": [
    "# set y to a int value\n",
    "y=\n",
    "#the line below will call a function to check your answer. Do not change it!\n",
    "tes.check_y(y)"
   ]
  },
  {
   "cell_type": "code",
   "execution_count": 10,
   "metadata": {},
   "outputs": [
    {
     "name": "stdout",
     "output_type": "stream",
     "text": [
      "Your z-value is a string! Great job!\n"
     ]
    }
   ],
   "source": [
    "# set z to an str value\n",
    "z=\n",
    "#the line below will call a function to check your answer. Do not change it!\n",
    "tes.check_z(z)"
   ]
  },
  {
   "cell_type": "markdown",
   "metadata": {},
   "source": [
    "[Back to top](#welcome)"
   ]
  },
  {
   "cell_type": "markdown",
   "metadata": {},
   "source": [
    "# Mathematical Operations <a id='math'></a>\n",
    "\n",
    "There are also a collection of mathematical operations you will see throughout the notebooks. The table below summarizes them. \n",
    "\n",
    "| symbol        | operation     |\n",
    "| ------------- |:-------------:|\n",
    "| +             | addition      |\n",
    "| -             | subtraction   |\n",
    "| *             | multiplication|\n",
    "| /             | division      |\n",
    "| **            | exponentiate  |\n",
    "| %             | modulo        |\n",
    "\n",
    "The only one that may not be intuitive is the modulo operation, %. This will return the remainder of dividing two numbers.\n",
    "\n",
    "An example of each operation is shown below. Run the code block and ensure the answer result is as expected.\n"
   ]
  },
  {
   "cell_type": "code",
   "execution_count": 17,
   "metadata": {},
   "outputs": [
    {
     "name": "stdout",
     "output_type": "stream",
     "text": [
      "addition: 7\n",
      "subtraction: 1\n",
      "multiplication: 12\n",
      "division: 1.3333333333333333\n",
      "exponentiation: 64\n",
      "remainder: 1\n"
     ]
    }
   ],
   "source": [
    "var_add = 4+3\n",
    "print('addition: {}'.format(var_add))\n",
    "\n",
    "var_subtract = 4-3\n",
    "print('subtraction: {}'.format(var_subtract))\n",
    "\n",
    "var_multiply = 4*3\n",
    "print('multiplication: {}'.format(var_multiply))\n",
    "\n",
    "var_divide = 4/3\n",
    "print('division: {}'.format(var_divide))\n",
    "\n",
    "var_exponent= 4**3\n",
    "print('exponentiation: {}'.format(var_exponent))\n",
    "\n",
    "var_modulus = 4%3\n",
    "print('remainder: {}'.format(var_modulus))"
   ]
  },
  {
   "cell_type": "markdown",
   "metadata": {},
   "source": [
    "**NOTE to Python 2 users:** You  will notice **``var_divide``** returns 0. This is because it handles int division by storing only the whole number value. This behavior is no longer default in Python Versions >3, but you should still be aware as it can cause unexpected problems when programming. To get this to work correctly, simply add a decimal point after the numbers (`var_divide = 4./3.`)."
   ]
  },
  {
   "cell_type": "markdown",
   "metadata": {},
   "source": [
    "## Your Task!\n",
    "Set the variables below according to the instructions:\n",
    "1. assign the variable '**``var_add``**' to equal the sum of 1745 and 8765.1\n",
    "2. assign the variable '**``var_subtract``**' to the difference between 4587.6 and 423.9 \n",
    "3. assign the variable '**``var_multiply``**' to 54 multiplied by 76\n",
    "4. assign the variable '**``var_divide``**' to 76 divided by 9\n",
    "5. assign the variable '**``var_exponent``**' to 37 raised to the 6 power\n",
    "6. assign the varaible '**``var_modulus``**' to return the remainder of 87 divided by 6.9\n"
   ]
  },
  {
   "cell_type": "code",
   "execution_count": 20,
   "metadata": {},
   "outputs": [
    {
     "name": "stdout",
     "output_type": "stream",
     "text": [
      "Your variable ADD is incorrect! Try again.\n",
      "Your variable SUBTRACT is incorrect! Try again.\n",
      "Your variable MULTIPLY is incorrect! Try again.\n",
      "Your variable DIVIDE is incorrect! Try again.\n",
      "Your variable EXPONENT is incorrect! Try again.\n",
      "Your variable MODULUS is incorrect! Try again.\n"
     ]
    }
   ],
   "source": [
    "var_add =\n",
    "var_subtract =\n",
    "var_multiply =\n",
    "var_divide =\n",
    "var_exponent =\n",
    "var_modulus =\n",
    "\n",
    "#The line below will call a function to check your answers. Do not change it!\n",
    "tes.check_math_operation(var_add,var_subtract,var_multiply,var_divide,var_exponent,var_modulus)"
   ]
  },
  {
   "cell_type": "markdown",
   "metadata": {},
   "source": [
    "# Parentheses\n",
    "\n",
    "As when working with graphing calculators or excel, parentheses are used to direct your precedence of calculations, otherwise the order of operations is followed.\n"
   ]
  },
  {
   "cell_type": "code",
   "execution_count": 21,
   "metadata": {},
   "outputs": [
    {
     "name": "stdout",
     "output_type": "stream",
     "text": [
      "12.200000000000001\n",
      "24.6\n"
     ]
    }
   ],
   "source": [
    "#parentheses\n",
    "\n",
    "try1=(4+3)/5+(6*9)/(3+2)\n",
    "try2=4+3/5+6*9/3+2\n",
    "print(try1)\n",
    "print(try2)"
   ]
  },
  {
   "cell_type": "markdown",
   "metadata": {},
   "source": [
    "## Your task!\n",
    "\n",
    "Try coding the following expression, utilizing parentheses. Where the numerator is 8 added to the value of nine raised to the sum of 2 and 5. The numerator is then divided by the sum of six minus the product of 5*7.\n",
    "\n",
    "$$\\frac{8+9^{2+5}}{6-5*7}$$\n",
    "\n"
   ]
  },
  {
   "cell_type": "code",
   "execution_count": 22,
   "metadata": {},
   "outputs": [
    {
     "name": "stdout",
     "output_type": "stream",
     "text": [
      "Your answer is correct! Wonderful\n"
     ]
    }
   ],
   "source": [
    "#code your attempt below\n",
    "answer=\n",
    "\n",
    "#This will check your answer, do not change.\n",
    "tes.check_parentheses(answer)"
   ]
  },
  {
   "cell_type": "markdown",
   "metadata": {},
   "source": [
    "[Back to top](#welcome)"
   ]
  },
  {
   "cell_type": "markdown",
   "metadata": {},
   "source": [
    "# Defining Functions  <a id='functions'></a>\n",
    "\n",
    "As shown in the last section, it is cumbersome to retype the same operations multiple times with different values. Lucky for us, Python and other coding languages allow one to define functions that will read in variables, perform a specified operation, and return the end result. This saves us the time of retyping and avoiding possible input errors.\n",
    "\n",
    "Function definitions are usually given at the beginning of a script after importing libraries. An example function is given below representing the result of:\n",
    "$$ y\\ =\\ x_1*\\sqrt{\\frac{x_2}{x_1+x_2}}.$$"
   ]
  },
  {
   "cell_type": "code",
   "execution_count": 23,
   "metadata": {},
   "outputs": [],
   "source": [
    "def example_function(x1, x2):\n",
    "    answer = x1*np.sqrt(x2/(x1+x2))\n",
    "    return answer"
   ]
  },
  {
   "cell_type": "markdown",
   "metadata": {},
   "source": [
    "To begin a function definition, type `def`  followed by the name of the function, in our case `example_function`. The parentheses after the function name will contain the arguments that will be passed to the function when it is called. Our function requires two variables, `x1` and `x2`. Everything indented under the `def` statement will be done each  time the function is called. The final line returns the result of the calculation.\n",
    "\n",
    "When you run the code in the cell above, the function is created. The code below will call the function using 3 as `x1` and 5 as `x2`, and then it will print the results."
   ]
  },
  {
   "cell_type": "code",
   "execution_count": 25,
   "metadata": {},
   "outputs": [
    {
     "name": "stdout",
     "output_type": "stream",
     "text": [
      "2.3717082451262845\n"
     ]
    }
   ],
   "source": [
    "print(example_function(3, 5))"
   ]
  },
  {
   "cell_type": "markdown",
   "metadata": {},
   "source": [
    "# Conditionals <a id='conditions'></a>\n",
    "\n",
    "Often it is necessary to rerun the same few lines of code multiple times. This repetition can continue until certain criteria are met. For example, our criteria can be a specified number of repetitions, to be within error pars, or until you reach the end of a list. To accomplish these goals, there a few different conditional tools one can implement. Here we will cover three:\n",
    "\n",
    "1. for loops\n",
    "2. while loops\n",
    "3. if statements\n",
    "\n",
    "\n",
    "In general, indentation of your code will be extremely important. In Python, indentation tells the computer what is included in your conditional statement. "
   ]
  },
  {
   "cell_type": "markdown",
   "metadata": {
    "collapsed": true
   },
   "source": [
    "# For Loop\n",
    "For loops repeat lines of code for a certain number of iterations. This number can be set manually or  until a condition is met. To create a for loop, the key works `for` and `in` are used. The general structure is shown below:\n",
    "\n",
    "```\n",
    "for specific_value in (range_of_values):\n",
    "    code to be repeated\n",
    "```\n",
    "\n",
    "\n",
    "In the above example, the variable `specific_value` will take on a value that is in the list `range_of_values`. Any data type (strings, floats, integers) can be used, but we will explore that a bit later. First, let's see the simplest example of a for loop. *You do not have to modify any lines of code. Simply run the cell and observe the output.* What value does `i` start at? What value does `i` end at?"
   ]
  },
  {
   "cell_type": "code",
   "execution_count": 26,
   "metadata": {},
   "outputs": [
    {
     "name": "stdout",
     "output_type": "stream",
     "text": [
      "0\n",
      "1\n",
      "2\n",
      "3\n",
      "4\n",
      "5\n",
      "6\n"
     ]
    }
   ],
   "source": [
    "start = 0\n",
    "end = 7\n",
    "step_size = 1\n",
    "for i in range(start,end,step_size):\n",
    "    print(i)"
   ]
  },
  {
   "cell_type": "markdown",
   "metadata": {
    "collapsed": true
   },
   "source": [
    "We are using a function called `range()`, which takes the first argument (`start`) as the beginning of the range, the second argument (``end``) is the value the code stops at, but is not included. The third argument (``step_size``)  is the space between one number and the next. Here, notice that `i` takes on a value in the range of 7, but not including seven.  \n",
    "\n",
    "## Your Task!\n",
    "Write your own for loop in the cell below that repeatedly prints the value of `i` a total of 26 times. Remember to incorporate what we learned about how Python counts!"
   ]
  },
  {
   "cell_type": "code",
   "execution_count": null,
   "metadata": {},
   "outputs": [],
   "source": [
    "#Provide values for start, end, and step size:\n",
    "start = \n",
    "end = \n",
    "step_size = \n",
    "#write the for loop here:\n"
   ]
  },
  {
   "cell_type": "markdown",
   "metadata": {
    "collapsed": true
   },
   "source": [
    "A for loop can also do math! Let’s say we wanted to repeat the same mathematical expression 12 times in a row. Would you like to code the same thing 12 times? Even if we  copy and paste that code twelve times, if you found an error, you would have to fix every instance of that error! Let’s look at an example.\n",
    "\n",
    "Below we will learn about:\n",
    "1. Performing some math in a for loop\n",
    "2. One way to iterate in reverse for a for loop."
   ]
  },
  {
   "cell_type": "code",
   "execution_count": 27,
   "metadata": {},
   "outputs": [
    {
     "name": "stdout",
     "output_type": "stream",
     "text": [
      "The square of 12 is 144\n",
      "The square of 11 is 121\n",
      "The square of 10 is 100\n",
      "The square of 9 is 81\n",
      "The square of 8 is 64\n",
      "The square of 7 is 49\n",
      "The square of 6 is 36\n",
      "The square of 5 is 25\n",
      "The square of 4 is 16\n",
      "The square of 3 is 9\n",
      "The square of 2 is 4\n",
      "The square of 1 is 1\n"
     ]
    }
   ],
   "source": [
    "start = 12\n",
    "end = 0 \n",
    "step_size = -1\n",
    "for i in range(start,end,step_size):\n",
    "    value = i**2\n",
    "    print('The square of {} is {}'.format(i,value))"
   ]
  },
  {
   "cell_type": "markdown",
   "metadata": {
    "collapsed": true
   },
   "source": [
    "## Your task!\n",
    "1. Copy the code from above.\n",
    "2. Adapt the variables to start at 10, end at 0, and decrease by two each time.\n",
    "3. Within the loop, instead of printing $i^2$, code the value to equal $i^{3+i} + 4$.\n",
    "4. Adapt the print statement to read \"The result of our calculation involving `i` is `value`.\"\n",
    "\n",
    "Hint: remember what we learned about parenthesis\n"
   ]
  },
  {
   "cell_type": "code",
   "execution_count": 28,
   "metadata": {},
   "outputs": [
    {
     "name": "stdout",
     "output_type": "stream",
     "text": [
      "The square of 10 is 10000000000004\n",
      "The square of 8 is 8589934596\n",
      "The square of 6 is 10077700\n",
      "The square of 4 is 16388\n",
      "The square of 2 is 36\n",
      "Your start variable is correct! Great job!\n",
      "Your end variable is correct! Great job!\n",
      "Your step_size variable is correct! Great job!\n",
      "Your value variable is correct! Great job!\n"
     ]
    }
   ],
   "source": [
    "# Your code here\n",
    "\n",
    "#The line below checks some parts of your code. Please do not change it\n",
    "tes.check_forloop1(start,end,step_size,value)"
   ]
  },
  {
   "cell_type": "markdown",
   "metadata": {},
   "source": [
    "## Indexing lists with a for loop: strings\n",
    "\n",
    "For loops can also be useful with strings. For instance, for loops can be used to iterate through lists of any data type. The first list explored will be a list of strings. When we store strings in a list, these strings can be accessed as the elements of an array. The code will keep track of the position as an integer value. The example below works nearly identical to other data types: **`i`** takes on a numerical value and we can then use that to access a specific entry in the list.\n",
    "\n",
    "Consider a list of names called name_list:\n",
    "\n",
    "```\n",
    "name_list = ['Schrodinger','Einstein', 'Curie', 'Lovelace', 'Heisenberg']\n",
    "```\n",
    "Here Schrodinger is the first position in the list, while Planck is the fourth. However, Python labels the first position as 0 rather than 1. \n",
    "\n",
    "Run the code block below to see how this works *You do not need to modify the code, simply run it and observe the outcome.* How is a list indexed?"
   ]
  },
  {
   "cell_type": "code",
   "execution_count": 30,
   "metadata": {},
   "outputs": [
    {
     "name": "stdout",
     "output_type": "stream",
     "text": [
      "0\n",
      "Schrodinger\n",
      "1\n",
      "Einstein\n",
      "2\n",
      "Curie\n",
      "3\n",
      "Lovelace\n",
      "4\n",
      "Heisenberg\n"
     ]
    }
   ],
   "source": [
    "name_list = ['Schrodinger','Einstein', 'Curie', 'Lovelace', 'Heisenberg']\n",
    "for i in range(0,5,1):\n",
    "    print(i)\n",
    "    print(name_list[i])"
   ]
  },
  {
   "cell_type": "markdown",
   "metadata": {},
   "source": [
    "In the next example the variable `i` takes the value of the string at that position in the list. The code contained within the loop simply prints the string.\n",
    "\n",
    "Run the code block below to see how this works *You do not need to modify the code, simply run it and observe the outcome.* In your own words, how does this differ to the previous code?"
   ]
  },
  {
   "cell_type": "code",
   "execution_count": 31,
   "metadata": {},
   "outputs": [
    {
     "name": "stdout",
     "output_type": "stream",
     "text": [
      "Schrodinger\n",
      "Einstein\n",
      "Curie\n",
      "Lovelace\n",
      "Heisenberg\n"
     ]
    }
   ],
   "source": [
    "name_list = ['Schrodinger','Einstein', 'Curie', 'Lovelace', 'Heisenberg']\n",
    "for i in name_list:\n",
    "    print(i)"
   ]
  },
  {
   "cell_type": "markdown",
   "metadata": {},
   "source": [
    "# While loops\n",
    "\n",
    "The conditional **while** loops are used to repeat a block of code until a certain criteria is met. \n",
    "\n",
    "```\n",
    "while some condition is/is not met:\n",
    "    execute contained code\n",
    "```\n",
    "\n",
    "In the example below, the code inside the while loop adds two to the value of x by exploiting the function `+=`. Here, the task is repeated while x is less than 24. Run the code block below to see how this works *You do not need to modify the code, simply run it and observe the outcome.* What is the last value printed from this loop? Does that make sense to you?"
   ]
  },
  {
   "cell_type": "code",
   "execution_count": 32,
   "metadata": {},
   "outputs": [
    {
     "name": "stdout",
     "output_type": "stream",
     "text": [
      "2\n",
      "4\n",
      "6\n",
      "8\n",
      "10\n",
      "12\n",
      "14\n",
      "16\n",
      "18\n",
      "20\n",
      "22\n",
      "24\n"
     ]
    }
   ],
   "source": [
    "x=0\n",
    "while x < 24:\n",
    "    x+=2\n",
    "    print(x)"
   ]
  },
  {
   "cell_type": "markdown",
   "metadata": {},
   "source": [
    "# If statements\n",
    "\n",
    "The last conditionals are **if** statements, which are fairly simple in that you can interpret them just like reading English. Let's look at the following structure of an if statement:\n",
    "\n",
    "```\n",
    "if condition_met:\n",
    "    execute code of code\n",
    "```\n",
    "The keyword `if` initiates the conditional that is specified, followed by the condition we want to test. If the condition is met, the indented code will be executed. If the condition is not met, the will be skipped. \n",
    "\n",
    "Let's apply these ideas in the code block below. The conditional is started with the word 'if', and is only executed if to the condition within the parentheses is met. The specific condition here is whether the variable is less than five. Play around with the value of x to see how the if statement behaves. What happens when x is equal to 0? Change the value of x to 2, 5, and 9 to see what happens."
   ]
  },
  {
   "cell_type": "code",
   "execution_count": 33,
   "metadata": {},
   "outputs": [
    {
     "name": "stdout",
     "output_type": "stream",
     "text": [
      "The condition was met, the value of x is 0\n"
     ]
    }
   ],
   "source": [
    "x = 0\n",
    "if (x < 5):\n",
    "    print('The condition was met, the value of x is {}'.format(x))\n"
   ]
  },
  {
   "cell_type": "markdown",
   "metadata": {},
   "source": [
    "Multiple conditions can be tested by using keywords `elif` and `else` along with the `if` statement.\n",
    "These compliment **`if`** statements and can be read in much the same way.\n",
    "Consider the following structure\n",
    "\n",
    "```\n",
    "if condition_met:\n",
    "    execute the first piece of code\n",
    "elif second_condition_met:\n",
    "    execute the second piece of code\n",
    "else:\n",
    "    execute the third piece of code \n",
    "```\n",
    "\n",
    "\n",
    "In this example, an if statement  tests the first condition. If that condition is met, the line of code beneath it is executed. However, now we have added the `elif` line of code which that is executed if our condition is not met. If the second condition is met, the second piece of code will run. Lastly, the third piece of code under the `else` condition will only run when both the first and second condition are not met.\n",
    "\n",
    "The below example will demonstrate the expanded if statement discussed above. Again play around with this piece of code, setting x to the values of 0, 2, 5, and 7."
   ]
  },
  {
   "cell_type": "code",
   "execution_count": 37,
   "metadata": {},
   "outputs": [
    {
     "name": "stdout",
     "output_type": "stream",
     "text": [
      "The first condition was met, the value of x is 0\n"
     ]
    }
   ],
   "source": [
    "x = 0\n",
    "if (x < 5):\n",
    "    print('The first condition was met, the value of x is {}'.format(x))\n",
    "elif (x ==5):\n",
    "    print('The second condition was met, the value of x is {}'.format(x))\n",
    "else:\n",
    "    print('Neither condition was met')"
   ]
  },
  {
   "cell_type": "markdown",
   "metadata": {},
   "source": [
    "#### A few things to notice:\n",
    "1. We are again using formatted printing to print some helpful output. \n",
    "2. If we want to see that a value is exactly equal to another value we use `'=='`. We could test if something is not equal by using `'!='`"
   ]
  },
  {
   "cell_type": "markdown",
   "metadata": {},
   "source": [
    "Let's get some practice with if statements.\n",
    "\n",
    "## Your Task!\n",
    "We want to write a for loop that checks if a number is positive, negative, or zero.\n",
    "\n",
    "We have started a code below. You need to incorporate the following:\n",
    "1. Replace the '#1' with code to check if the the variable x is exactly zero.\n",
    "2. The first print statement will be called when the variable is exactly zero. Replace the '#2' with an informative print statement.\n",
    "3. The `elif` statement will check if a number is greater than 0. Replace '#3' with the appropriate line of code.\n",
    "4. Replace \\#4 with a print statement saying the number is positive \n",
    "4. If no conditions are met, the code following the else statement is executed. This means it the value is neither exactly zero or > 0. Replace '#5' with an informative print statement."
   ]
  },
  {
   "cell_type": "code",
   "execution_count": null,
   "metadata": {},
   "outputs": [],
   "source": [
    "num = 2 \n",
    "if #1: #write this line check if the number is exactly zero\n",
    "    print(\"#2\") #rewrite this line to print an informative statement\n",
    "elif #3: \n",
    "    print(\"#4\") #rewrite this line to print an informative statement\n",
    "else:\n",
    "    print(\"#5\") #rewrite this line to print an informative statement\n"
   ]
  },
  {
   "cell_type": "markdown",
   "metadata": {},
   "source": [
    "[Back to top](#welcome)"
   ]
  },
  {
   "cell_type": "markdown",
   "metadata": {},
   "source": [
    "# Bringing it all together  <a id='all'></a>\n",
    "\n",
    "Goal: Have the computer iterate through the array of numbers and print an informative message if the number is even or odd.\n",
    "\n",
    "Here is the framework of the code:\n",
    "```\n",
    "for i in list_of_numbers\n",
    "    if i is even:\n",
    "        print a message saying it is even\n",
    "    else: \n",
    "        print a message saying the number is odd\n",
    "```\n",
    "## Your Task!\n",
    "1. set a variable for a list of numbers you would like to test\n",
    "2. copy framework code into cell below.\n",
    "3. adapt the code to test if the number is even or odd\n",
    "4. adapt the code to print out informative messages to the screen.\n",
    "\n",
    "Hint:\n",
    "* Consider using the modulo function. If you forget how to this works, you can first use the code block to test modulo. Type `6%2` and `5%2` and observe the output."
   ]
  },
  {
   "cell_type": "code",
   "execution_count": null,
   "metadata": {},
   "outputs": [],
   "source": [
    "#your code here"
   ]
  },
  {
   "cell_type": "markdown",
   "metadata": {},
   "source": [
    "## Conclusion\n",
    "\n",
    "In this notebook we present an introduction to Python basics that will be extremely helpful in the following notebooks. The main points to take from this are how to assign variables, perform calculations, define functions, and use conditional statements. Although the code for numerical methods will be a bit longer or more complicated, you can always break it down to these fundamental building blocks."
   ]
  }
 ],
 "metadata": {
  "kernelspec": {
   "display_name": "Python 3",
   "language": "python",
   "name": "python3"
  },
  "language_info": {
   "codemirror_mode": {
    "name": "ipython",
    "version": 3
   },
   "file_extension": ".py",
   "mimetype": "text/x-python",
   "name": "python",
   "nbconvert_exporter": "python",
   "pygments_lexer": "ipython3",
   "version": "3.6.5"
  }
 },
 "nbformat": 4,
 "nbformat_minor": 2
}
