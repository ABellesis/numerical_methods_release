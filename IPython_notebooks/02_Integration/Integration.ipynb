{
 "cells": [
  {
   "cell_type": "markdown",
   "metadata": {},
   "source": [
    "# 2.  Integration Techniques\n",
    "Often physical scientists desire the integration of a function. An analytical integration may not be achievable and a numerical solution is required. Here, we will explore the midpoint, trapezoidal, Simpson's, Gaussian quadrature, and Monte Carlo numerical integration methods.\n",
    "\n",
    "In the next cell, the necessary packages are imported, such as NumPy needed to perform certain mathematical operations, and Matplotlib for visualization. The Sympy library helps define the mathematical functions we would like to explore.  For example, when defining functions, you may want to explore functions not included in Python by default, such as $sin()$, $cos()$, but these functions are available through Sympy which we can access by typing `syp.sin()` and `syp.cos()`.\n",
    "We also define the specific function that we want with each integration method.\n",
    "By default the function is defined as $sin(x)$.\n",
    "\n",
    "## Your Task!\n",
    "1. Change the defined function from sine to cosine while using the Sympy library.\n"
   ]
  },
  {
   "cell_type": "code",
   "execution_count": null,
   "metadata": {},
   "outputs": [],
   "source": [
    "###########\n",
    "# IMPORTS #\n",
    "###########\n",
    "# These are packages needed to perform the math and visualization\n",
    "\n",
    "import numpy as np\n",
    "import sympy as syp\n",
    "import IPython\n",
    "from IPython.display import Math\n",
    "import matplotlib.pyplot as plt\n",
    "import plotting_functions as pf\n",
    "%matplotlib notebook\n",
    "\n",
    "#############\n",
    "# FUNCTIONS #\n",
    "#############\n",
    "\n",
    "\n",
    "def f(x):\n",
    "    '''\n",
    "    INPUT:\n",
    "        x (float) array of floats\n",
    "    OUTPUT: \n",
    "        returns (float)\n",
    "    '''\n",
    "    return syp.sin(x)\n",
    "\n",
    "\n",
    "\n",
    "###############\n",
    "# GLOBAL VARS #\n",
    "###############\n",
    "a = 0  # left most point of interval\n",
    "b = np.pi  # right most point of interval\n",
    "n = 100 # number of subsections\n",
    "# This will calculate the analytical integral to assess error\n",
    "analytical_integral = pf.analytical_integral(f,a,b)\n",
    "\n",
    "# dictionaries to hold error of each method\n",
    "error = dict()"
   ]
  },
  {
   "cell_type": "markdown",
   "metadata": {},
   "source": [
    "## ** 2.1  Midpoint Rule **\n",
    "\n",
    "The simplest numerical method for approximating integrals is the midpoint rule.  This method approximates $f(x)$ with a polynomial $p(x)$ over a particular interval.\n",
    "\n",
    "$$ \\int_a^b f(x)dx \\ \\approx \\ \\int_a^b p(x)dx $$\n",
    "\n",
    "This polynomial is just the value of the function at a single point, the midpoint $mp$ between $a$ and $b$.\n",
    "\n",
    "$$ mp\\ =\\ \\frac{a+b}{2} $$\n",
    "\n",
    "$$ \\int_a^b p(x)dx \\ = \\ \\int_a^b f(mp)dx \\ = \\ (b-a) f(mp) $$ \n",
    "\n",
    "For the midpoint method to yield a reasonable result, the interval must be broken into several subintervals, apply the midpoint rule to each subinterval, and sum over all subintervals. This implementation is known as the composite midpoint rule.\n",
    "\n",
    "In the cell below, we define the `midpoint` function that assess the function f at the midpoint between $a$ and $b$. A second function `Cmidpoint`, implements the composite midpoint rule. "
   ]
  },
  {
   "cell_type": "code",
   "execution_count": null,
   "metadata": {},
   "outputs": [],
   "source": [
    "#############\n",
    "# FUNCTIONS #\n",
    "#############\n",
    "\n",
    "\n",
    "def midpoint(a, b, f):  \n",
    "    '''\n",
    "    Midpoint rule evaluation of the function, called in Cmidpoint below\n",
    "    INPUT\n",
    "        a: (float) minimum x-value to evaluate\n",
    "        b: (float) maximum x-value to evaluate\n",
    "        f: function\n",
    "    OUTPUT\n",
    "        returns (float) integral of f evaluated as the midpoint of a and b\n",
    "    '''\n",
    "    #calculating the midpoint between the interval a and b\n",
    "    mp = (a + b) / 2.0\n",
    "    #approximating the value of the integral for that subsection with the midpoint method\n",
    "    return (b - a) * f(mp)\n",
    "\n",
    "\n",
    "def Cmidpoint(a, b, f, n_sub):\n",
    "    '''\n",
    "    Composite midpoint calculation\n",
    "    INPUT\n",
    "        a: (float) minimum x-value to evaluate\n",
    "        b: (float) maximum x-value to evaluate\n",
    "        f: function\n",
    "        n_sub: (int) number of subsections between [a,b] to evaluate\n",
    "    OUTPUT\n",
    "        returns (float) integral of f evaluated as the sum of each subsections midpoint\n",
    "    '''\n",
    "    # dividing the domain of the function (a to b) into subsections (Nsub)\n",
    "    xvals = np.linspace(a, b, n_sub + 1)\n",
    "    p = 0\n",
    "    for i in range(n_sub):\n",
    "        # approximating the integral by summing the midpoint evaluation for\n",
    "        # each subsection\n",
    "        p += midpoint(xvals[i], xvals[i + 1], f)\n",
    "    return p\n",
    "\n",
    "#############\n",
    "# MAIN CODE #\n",
    "#############\n",
    "integral_estimator = Cmidpoint(a, b, f, n)\n",
    "method = 'Midpoint Approximation'\n",
    "error[method] = abs(integral_estimator - analytical_integral)\n",
    "print('Method: {}'.format(method))\n",
    "print('Answer = {:.6E}'.format(integral_estimator))\n",
    "print('Number of evaluated points = {}'.format(n))\n"
   ]
  },
  {
   "cell_type": "markdown",
   "metadata": {},
   "source": [
    "A geometrical interpretation of this method can help us learn more about these methods. Below, we will plot the results of the integration as assessed with the midpoint rule. The dotted line is the midpoint of the subsection, from which the rectangular subsection will approximate the integral. Notice how the rectangles will sometimes over and under estimate the function. \n",
    "\n",
    "## Your task\n",
    "1. Run the cell below that will use the composite midpoint rule. It will break the section a and b (defined above) into n_sub subsection, initially set to 8.\n",
    "2. Change the variable n_sub from 8 to 25 and run this again.\n",
    "3. Change the variable n_sub from 25 to 100 and observe how the plot change."
   ]
  },
  {
   "cell_type": "code",
   "execution_count": null,
   "metadata": {},
   "outputs": [],
   "source": [
    "# Input variables are:\n",
    "n_sub = 8\n",
    "# (x minimum, x maximum, function, number of subsections)\n",
    "pf.plot_midpoint_func(a, b, f, n_sub)\n",
    "integral_estimator = Cmidpoint(a, b, f, n_sub)\n",
    "print('Answer = {:.6E}'.format(integral_estimator))\n",
    "print('Error = {:.6E}'.format(abs(integral_estimator - analytical_integral)))"
   ]
  },
  {
   "cell_type": "markdown",
   "metadata": {},
   "source": [
    "## 2.2  Trapezoidal Rule \n",
    "\n",
    "As an improvement to the midpoint rule, the trapezoidal rule can also be utilized to approximate integrals.  This method utilizes two points instead of the single point approximation in the midpoint method. A linear interpolation polynomial, $p(x)$, is used to approximate our desired function, $f(x)$.  The two points utilized in the approximation will be the endpoints of the interval: $(a, f(a))$ and $(b, f(b))$.\n",
    "\n",
    "$$ p(x) = f(a)\\frac{x\\ -\\ b}{a\\ -\\ b}\\ +\\ f(b)\\frac{x\\ -\\ a}{b\\ -\\ a} $$\n",
    "\n",
    "The approximation of our desired function then becomes:\n",
    "$$ \\int_a^b f(x)dx\\ \\approx\\  \\int_a^b p(x)dx\\ = \\left[f(a)\\frac{x\\ -\\ b}{a\\ -\\ b}\\ +\\ f(b)\\frac{x\\ -\\ a}{b\\ -\\ a}\\right]dx $$\n",
    "\n",
    "which can be re-written as:\n",
    "\n",
    "$$ \\int_a^b f(x)dx\\ \\approx\\  \\int_a^b p(x)dx\\ = \\frac{f(a)}{-h}\\int_a^b(x\\ -\\ b)dx\\ +\\ \\frac{f(b)}{h}\\int_a^b(x\\ -\\ a)dx $$\n",
    "\n",
    "where $$ h\\ =\\ b\\ -\\ a $$\n",
    "\n",
    "and evaluating the integrals gives rise to\n",
    "\n",
    "$$ \\int_a^b f(x)dx\\ \\approx\\ \\frac{f(a)}{-h}\\frac{(x\\ -\\ b)^2}{2}\\Bigm|_a^b\\ +\\ \\frac{f(b)}{h}\\frac{(x\\ -\\ a)^2}{2}\\Bigm|_a^b $$\n",
    "\n",
    "Simplifying this expression results in:\n",
    "\n",
    "$$ \\int_a^b f(x)dx\\ \\approx\\ \\frac{hf(a)}{2}\\ +\\ \\frac{hf(b)}{2} = \\frac{h}{2}\\left[f(a)\\ +\\ f(b)\\right] $$\n",
    "\n",
    "A composite trapezoidal rule breaks up our interval into several subintervals, applies the trapezoidal rule to each subinterval, and sums over all subintervals, in much the same way as the composite midpoint rule. The cell defines a function that will evaluate an approximation to the integral $f(x)$ using  the composite trapezoid rule."
   ]
  },
  {
   "cell_type": "code",
   "execution_count": null,
   "metadata": {},
   "outputs": [],
   "source": [
    "#############\n",
    "# FUNCTIONS #\n",
    "#############\n",
    "\n",
    "def trapezoid(a, b, f):\n",
    "    '''\n",
    "    Calculates the trapezoid rule on a single section\n",
    "    INPUT\n",
    "        a: (float) minimum x-value to evaluate\n",
    "        b: (float) maximum x-value to evaluate\n",
    "        f: function\n",
    "    OUTPUT\n",
    "        ans: (float) integral of f evaluated as area of the trapezoid between a and b\n",
    "    '''\n",
    "    h = (b - a)\n",
    "    estimate = (f(a)+f(b))/2  # the final evaluation of f(x)\n",
    "    ans = estimate * h\n",
    "    return ans\n",
    "\n",
    "def Ctrapezoid(a, b, f, n_sub):\n",
    "    '''\n",
    "    Calculates the composite trapezoid rule over the subsection a and b split into multiple subsections\n",
    "    INPUT\n",
    "        a: (float) minimum x-value to evaluate\n",
    "        b: (float) maximum x-value to evaluate\n",
    "        f: function\n",
    "        n_sub: (int) number of subections between [a,b] to evaluate\n",
    "    OUTPUT\n",
    "        returns (float) integral of f evaluated as the sum of trapezoidal area of each subsection\n",
    "    '''\n",
    "    xvals = np.linspace(a, b, n_sub + 1)\n",
    "    estimate = 0\n",
    "    for i in range(n_sub):\n",
    "        estimate += trapezoid(xvals[i],xvals[i+1],f)\n",
    "    return estimate\n",
    "\n",
    "\n",
    "#############\n",
    "# MAIN CODE #\n",
    "#############\n",
    "integral_estimator = Ctrapezoid( a, b, f, n)\n",
    "method = 'Trapezoidal Rule'\n",
    "error[method] = abs(integral_estimator - analytical_integral)\n",
    "print(\"Method: {}\".format(method))\n",
    "print('Answer = {:.6E} +/- {:.6E}'.format(integral_estimator, error[method]))"
   ]
  },
  {
   "cell_type": "markdown",
   "metadata": {},
   "source": [
    "Now that we have seen how to code the trapezoid rule, what does it actually look like in practice? The plot below will show a geometric interpretation of the trapezoid rule. Here the black line represents our function. Each vertical red line are the end points, $a$ and $b$, that form the sides of the trapezoid. Notice how some parts of the curve are over-represented as a result of the trapezoid being taller than the function. However, there are also areas in which the trapezoid falls beneath the function, resulting in a lower area than required to describe the function. The success of the trapezoidal rule is reliant on the cancellation of these over and under estimations. \n",
    "\n",
    "## Your task\n",
    "1. Run the cell below that will use the composite midpoint rule. It will break the section a and b (defined above) into n_sub subsection, initially set to 8.\n",
    "2. Change the variable n_sub from 8 to 25 and run this again.\n",
    "3. Change the variable n_sub from 25 to 100 and observe how the plot changes."
   ]
  },
  {
   "cell_type": "code",
   "execution_count": null,
   "metadata": {},
   "outputs": [],
   "source": [
    "#input variables are:\n",
    "n_sub = 8\n",
    "#(x minimum, x maximum, function, number of subsections)\n",
    "pf.plot_trapezoidal_func(a, b, f, n_sub)\n",
    "integral_estimator = Ctrapezoid( a, b, f, n_sub)\n",
    "print('Answer = {:.6E}'.format(integral_estimator))\n",
    "print('Error = {:.6E}'.format(abs(integral_estimator - analytical_integral)))"
   ]
  },
  {
   "cell_type": "markdown",
   "metadata": {},
   "source": [
    "##  2.3  Simpson's Rule \n",
    "\n",
    "For an attempt at a more accurate approximation, a three-point approximation can be utilized, where a quadratic interpolation polynomial, $p(x)$ represents our function, $f(x)$.  In this case, our three points are $(a, f(a))$, $(b, f(b))$, and $(mp, f(mp))$, where $mp$ is the midpoint between $a$ and $b$. \n",
    "\n",
    "The quadratic interpolation polynomial takes on the form:\n",
    "\n",
    "$$ p(x)\\ =\\ f(a)\\frac{(x-mp)(x\\ -\\ b)}{(a\\ -\\ mp)(a\\ -\\ b)}\\ +\\ f(mp)\\frac{(x\\ -\\ a)(x\\ -\\ b)}{(mp\\ -\\ a)(mp\\ -\\ b)}\\ +\\ f(b)\\frac{(x\\ -\\ a)(x\\ -\\ mp)}{(b\\ -\\ a)(b\\ -\\ mp)} $$\n",
    "\n",
    "where \n",
    "\n",
    "$$ \\int_a^b p(x)dx\\ =\\ f(a)\\int_a^b\\frac{(x\\ -\\ mp)(x\\ -\\ b)}{(a\\ -\\ mp)(a\\ -\\ b)}dx\\ +\\ f(mp)\\int_a^b\\frac{(x\\ -\\ a)(x\\ -\\ b)}{(mp\\ -\\ a)(mp\\ -\\ b)}dx\\ $$\n",
    "$$ +\\ f(b)\\int_a^b\\frac{(x\\ -\\ a)(x\\ -\\ mp)}{(b\\ -\\ a)(b\\ -\\ mp)}dx $$\n",
    "\n",
    "\n",
    "which can be simplified to:\n",
    "\n",
    "$$ \\int_a^b f(x)dx\\ \\approx\\ \\frac{h}{3}\\left[\\ f(a)\\ +\\ 4f(mp)\\ +\\ f(b)\\ \\right] $$\n",
    "\n",
    "where\n",
    "\n",
    "$$ mp\\ =\\ \\frac{a\\ +\\ b}{2} $$ and $$ h\\ =\\ \\frac{b\\ -\\ a}{2} $$\n",
    "\n",
    "In a similar fashion to the midpoint and trapezoidal rules, a composite Simpson's rule can also be applied, where the interval is broken into several subintervals, the Simpson's rule is applied to each subinterval, and the sum over all subintervals is taken as the approximate integration."
   ]
  },
  {
   "cell_type": "code",
   "execution_count": null,
   "metadata": {},
   "outputs": [],
   "source": [
    "#############\n",
    "# FUNCTIONS #\n",
    "#############\n",
    "\n",
    "\n",
    "def Simpson(a, b, f):  #approximates the function between a and b as a polynomial\n",
    "    '''\n",
    "    INPUT\n",
    "        a: (float) minimum x-value to evaluate\n",
    "        b: (float) maximum x-value to evaluate\n",
    "        f: function\n",
    "    OUTPUT\n",
    "        returns (float)\n",
    "    '''\n",
    "    m = (a + b) / 2.0\n",
    "    h = abs(b - a) / 2.0\n",
    "    return h / 3.0 * (f(a) + 4.0 * f(m) + f(b))\n",
    "\n",
    "\n",
    "def Csimpson(a, b, f, n_sub):\n",
    "    '''\n",
    "    INPUT\n",
    "        a: (float) minimum x-value to evaluate\n",
    "        b: (float) maximum x-value to evaluate\n",
    "        f: function\n",
    "        n_sub: (int) number of subsections between [a,b] to evaluate\n",
    "    OUTPUT\n",
    "        returns (float)\n",
    "    '''\n",
    "    xvals = np.linspace(a, b, n_sub + 1)\n",
    "    estimate = 0\n",
    "    for i in range(n_sub):\n",
    "        # summing the approximations of f(x) for each subsection\n",
    "        estimate = estimate + Simpson(xvals[i], xvals[i + 1], f)\n",
    "    return estimate\n",
    "#############\n",
    "# MAIN CODE #\n",
    "#############\n",
    "integral_estimator = Csimpson(a, b, f, n)\n",
    "method = 'Simpson\\'s Rule'\n",
    "error[method] = abs(integral_estimator - analytical_integral)\n",
    "print(\"Method: {}\".format(method))\n",
    "print('Answer = {:.6E} +/- {:.6E}'.format(integral_estimator, error[method]))\n"
   ]
  },
  {
   "cell_type": "markdown",
   "metadata": {},
   "source": [
    "The function in the following code block serves to give a geometric interpretation of the Simpson's rule approximation. Here the red points represent $(a,f(a))$ and $(b,f(b))$. The larger blue points represent the function evaluated at the midpoint of $a$ and $b$. A dotted line between the three points represents the estimated polynomial for that interval of the function. "
   ]
  },
  {
   "cell_type": "code",
   "execution_count": null,
   "metadata": {},
   "outputs": [],
   "source": [
    "#input variables are:\n",
    "#(x minimum, x maximum, function, number of parabola)\n",
    "pf.plot_simpsons_func(a, b, f, 4)"
   ]
  },
  {
   "cell_type": "markdown",
   "metadata": {},
   "source": [
    "## 2.4  Gaussian Quadrature \n",
    "The previous approximations dealt with estimating integrals as simple polynomials evaluated at points uniformly distributed within the interval [a,b]. Gaussian quadrature follows the concept by selecting *optimally* distributed points according to: \n",
    "$$ \\int_a^b f(x)dx\\ \\approx\\ \\sum_{i\\ =\\ 1}^{n} w_i f(x_i) $$\n",
    "where $w_i$ are the weighting factors. The Gaussian quadrature weights may be found using Legendre polynomials ($P_n$), belonging to the family of *orthogonal polynomials*. The Legendre polynomials have roots at $x_i$, which become the optimal sampling points. Although Gaussian quadrature estimation is defined over the interval [-1,1], it becomes universal through a change of variables:\n",
    "$$ \\int_a^b f(x)dx\\ \\approx\\ \\frac{b\\ -\\ a}{2}\\sum_{i\\ =\\ 1}^{n} w_i f\\left(\\frac{b\\ -\\ a}{2} x_i\\ +\\ \\frac{a\\ +\\ b}{2}\\right) $$\n",
    "where\n",
    "$$ w_i\\ =\\ \\frac{2}{(1\\ -\\ x_i^2)[P_n'(x_i)]^2} $$\n",
    "The optimally chosen points, $x_i$, are now the $i^{th}$ root of $P_n$."
   ]
  },
  {
   "cell_type": "code",
   "execution_count": null,
   "metadata": {
    "scrolled": false
   },
   "outputs": [],
   "source": [
    "#############\n",
    "# FUNCTIONS #\n",
    "#############\n",
    "\n",
    "def gaussian_quadrature(a, b, f, n):\n",
    "    '''\n",
    "    INPUT\n",
    "        a: (float) minimum x-value to evaluate\n",
    "        b: (float) maximum x-value to evaluate\n",
    "        f: function\n",
    "        n: (int) number of points to evaluate\n",
    "    OUTPUT\n",
    "        returns (float)\n",
    "    '''\n",
    "    # determination of optimal points and weights for evaluation as \n",
    "    # the roots of the Legendre polynomials\n",
    "    x, w = np.polynomial.legendre.leggauss(n)\n",
    "    # change of variables for [-1,1] to [a,b]\n",
    "    x = ((b - a) / 2.0) * x + ((b + a) / (2.0))\n",
    "    try: \n",
    "        estimate = ((b - a) / 2.0) * np.sum(w * f(x))\n",
    "    except:\n",
    "        f_temp = pf.sympy2numpy_function_converter(f,x)\n",
    "        estimate = ((b - a) / 2.0) * np.sum(w * f_temp(x))\n",
    "    return estimate\n",
    "\n",
    "#############\n",
    "# MAIN CODE #\n",
    "#############\n",
    "integral_estimator = gaussian_quadrature(a, b, f, 8)\n",
    "method = 'Gaussian Quadrature'\n",
    "error[method] = abs(integral_estimator - analytical_integral)\n",
    "print(\"Method: {}\".format(method))\n",
    "print('Answer = {:.6E} +/- {:.6E}'.format(integral_estimator,error[method]))\n"
   ]
  },
  {
   "cell_type": "markdown",
   "metadata": {},
   "source": [
    "In the plot below, the roots of the Legendre polynomials, $x_i$, are evaluated for the function $f(x)$ and represented by the red circles. The difference in diameter of each circle represents the relative weight assigned to each point."
   ]
  },
  {
   "cell_type": "code",
   "execution_count": null,
   "metadata": {},
   "outputs": [],
   "source": [
    "#input variables are:\n",
    "#(x minimum, x maximum, function, number of points)\n",
    "pf.plot_gaussian_func(a, b, f, 8)"
   ]
  },
  {
   "cell_type": "markdown",
   "metadata": {},
   "source": [
    "## 2.5  Monte Carlo \n",
    "Monte Carlo methods rely on the law of large numbers to approximate a definite integral; given a large enough sample size, a definite integral $f(x)$ on $[a,b]$ can be approximated by a sum:\n",
    "$$ \\int_a^b f(x)dx\\ \\approx\\ \\frac{1}{N} (b-a)\\sum_{i\\ =\\ 1}^{N} f(x_i) $$\n",
    "Unlike the previous methods that used equally spaced sampling points, Monte Carlo methods draw random numbers in the range of the function to evaluate. The true answer will lie within error bars or the uncertainty measurement of the estimation. The uncertainty will decrease as the number of points sampled increases. The uncertainty is measured as the standard deviation of our results.\n",
    "The distribution of the sampling points can be drawn in ways to enhance the efficiency of this method. Here we implement random sampling that draws points from a uniform distribution. Improved sampling draws points from different distributions, which could reduce the number of points required to achieve the same numerical precision. \n",
    "\n"
   ]
  },
  {
   "cell_type": "code",
   "execution_count": null,
   "metadata": {},
   "outputs": [],
   "source": [
    "#############\n",
    "# FUNCTIONS #\n",
    "#############\n",
    "\n",
    "\n",
    "def MonteCarlo(a, b, f, n):\n",
    "    '''\n",
    "    INPUT\n",
    "        a: (float) minimum x-value to evaluate\n",
    "        b: (float) maximum x-value to evaluate\n",
    "        f: function\n",
    "        n: (int) number of points to evaluate\n",
    "    OUTPUT\n",
    "        estimate: (float) of the approximation of the integral of f\n",
    "        uncertainty: (float) of the uncertainty in the approximation of the integral of f\n",
    "    '''\n",
    "    f= pf.sympy2numpy_function_converter(f,n)\n",
    "    random_samples = np.random.uniform(a, b, n)\n",
    "    function_values = f(random_samples)\n",
    "    estimate = (np.sum(function_values) / n) * (b - a)\n",
    "    uncertainty = np.abs(\n",
    "        b - a) * np.sqrt(((np.sum(function_values**2) / n) - (np.sum(function_values / n)**2)) / n)\n",
    "    return estimate, uncertainty\n",
    "#############\n",
    "# MAIN CODE #\n",
    "#############\n",
    "method = 'Monte Carlo Approximation'\n",
    "integral_estimator,error[method]= MonteCarlo(a, b, f, n)\n",
    "\n",
    "print(\"Method: {}\".format(method))\n",
    "print('Answer = {:.6E} +/- {:.6E}'.format(integral_estimator,error[method]))\n"
   ]
  },
  {
   "cell_type": "markdown",
   "metadata": {},
   "source": [
    "The plot below shows the function evaluated with Monte Carlo methods. Unlike the previous methods, the dots are not equally spaced, which reflects the random choices of $x$ used to evaluate \n",
    "$f(x)$. The variation in dot color is simply to make them more distinguishable.  "
   ]
  },
  {
   "cell_type": "code",
   "execution_count": null,
   "metadata": {},
   "outputs": [],
   "source": [
    "#input variables are:\n",
    "#(x minimum, x maximum, function, number of points)\n",
    "pf.plot_MonteCarlo_func(a, b, f, 8)"
   ]
  },
  {
   "cell_type": "markdown",
   "metadata": {},
   "source": [
    "## 2.6 Method Summary\n",
    "\n",
    "A table will appear when you run the code block below that presents the error of each method for the function defined in the first code block.\n",
    "Of the three approximations with equally spaced abscissa, Simpson's method gives the most accurate approximation, followed by trapezoidal, and midpoint. However, as observed in the test case, the cancellation of errors artificially suggests the midpoint rule performs well. Gaussian quadrature tends to be the most accurate method for 1-dimensional functions. However, the necessity of Legendre polynomials can become costly for certain functions, which may render another method more effective. Monte Carlo methods, which seems to underperform compared to the other methods, is very effective when applied to higher dimensional functions."
   ]
  },
  {
   "cell_type": "code",
   "execution_count": null,
   "metadata": {},
   "outputs": [],
   "source": [
    "print(\"{:-^39}\".format(\"\"))\n",
    "print(\"{:^25} : {:^11}\".format(\"Method\", \"Error\"))\n",
    "print(\"{:->25}   {:->11}\".format(\"\", \"\"))\n",
    "for i in sorted(error, key=error.get, reverse=True):\n",
    "    print(\"{:>25} : {:>.5E}\".format(i, error[i]))\n",
    "print(\"{:-^39}\".format(\"\"))\n"
   ]
  },
  {
   "cell_type": "markdown",
   "metadata": {},
   "source": [
    "## 2.7  Application\n",
    "\n"
   ]
  },
  {
   "cell_type": "markdown",
   "metadata": {},
   "source": [
    "### Particle in a box wavefunctions\n",
    "\n",
    "Consider the quantum mechanical problem of a particle in a box. This model problem is a single particle with only kinetic energy bound to a box of length < L by an infinitely large potential at and beyond the walls. This system does not have continuous energy levels, but instead only a discrete set that depend on the size and shape of the box.\n",
    "\n",
    "The functions that can accurately describe this, must oscillate between the walls, but equal zero at the walls. The sine function with a wave number restricted to $\\frac{n\\pi}{L}$ satisfies this condition. The normalized wavefunction for the particle in a box is where the quantum number $n$ is an integer. Wavefunctions for different quantum numbers must be orthogonal. \n",
    "$$\\phi_a = \\sqrt{\\frac{2}{L}}sin(\\frac{n_a\\pi x}{L}).$$\n",
    "\n",
    "The following overlap integral ensures the orthonormal constraint is satisfied.\n",
    "$$\\int\\ \\phi_a \\phi_b\\ dx= \n",
    "\\begin{cases} \n",
    "0\\  \\text{if}\\ a\\ \\neq\\ b\\\\\n",
    "1\\  \\text{if}\\ a\\  =\\ b\n",
    "\\end{cases}$$\n",
    "\n",
    "\n",
    "Here, we can use the numerical methods to ensure these functions are orthonormal. We will estimate the overlap of wavefunctions using Gaussian quadrature integration since this method can give reliable results with a modest amount of points compared to the other methods discussed in this notebook. However, in addition to ensuring orthonormality, we will also explore how numerical integration can introduce errors into our calculation if we are not careful. To explore this, we will look at adapting the number of quadrature points used for integration.\n",
    "\n",
    "### Your task\n",
    "1. Run the code block below to produce an interactive plot.\n",
    "2. Scroll down to the following code block to continue this exercise."
   ]
  },
  {
   "cell_type": "code",
   "execution_count": null,
   "metadata": {},
   "outputs": [],
   "source": [
    "import ipywidgets as ipw\n",
    "import numpy as np\n",
    "import matplotlib.pyplot as plt\n",
    "from matplotlib.widgets import Slider, Button\n",
    "\n",
    "# particle in a box\n",
    "def particle_in_a_box(x, level, L):\n",
    "    norm = np.sqrt(2.0/L)\n",
    "    psi = norm*np.sin(level*np.pi*x/L)\n",
    "    return psi\n",
    "\n",
    "# integration\n",
    "def pib_gaussian_quadrature(a, b, f, n, level1, level2, L):\n",
    "    '''\n",
    "    INPUT\n",
    "        a: (float) minimum x-value to evaluate\n",
    "        b: (float) maximum x-value to evaluate\n",
    "        f: function\n",
    "        n: (int) number of points to evaluate\n",
    "        level1: (int) level of first wavefunction\n",
    "        level2: (int) level of second wavefunction\n",
    "    OUTPUT\n",
    "        returns (float)\n",
    "    '''\n",
    "    # determination of optimal points and weights for evaluation based on\n",
    "    # legendre polynomials\n",
    "    x, w = np.polynomial.legendre.leggauss(n)\n",
    "    # change of variables for [-1,1] to [a,b]\n",
    "    x = ((b - a) / 2.0) * x + ((b + a) / (2.0))\n",
    "    try:\n",
    "        estimate = ((b - a) / 2.0) * np.sum(w * f(x,level1,L) * f(x,level2,L))\n",
    "    except:\n",
    "        f_temp = pf.sympy2numpy_function_converter(f,x)\n",
    "        estimate = ((b - a) / 2.0) * np.sum(w * f_temp(x,level1,L) * f_temp(x,level2,L))\n",
    "    return estimate\n",
    "\n",
    "ipw.interact(pf.plyt,level1=(1,10),level2=(1,10),L=ipw.fixed(1),num_pts=(1,30))\n"
   ]
  },
  {
   "cell_type": "markdown",
   "metadata": {},
   "source": [
    "### Your Task Continued\n",
    "Consider the case of $a$ = $b$ = 1\n",
    "1. What would you expect the overlap of $\\phi_a$ and $\\phi_b$?\n",
    "2. What is the result of the overlap for $\\phi_a$  and $\\phi_b$ if the number of points = 9?\n",
    "3. What is the result of the overlap for $\\phi_a$  and $\\phi_b$ if the number of points = 3?\n",
    "4. How can you explain these results?\n",
    "\n",
    "Consider the case of  $a$ = 9 and $b$ = 1\n",
    "1. What would you expect the overlap of $\\phi_a$ and $\\phi_b$?\n",
    "2. What is the result of the overlap for $\\phi_a$  and $\\phi_b$ if the number of points = 9?\n",
    "3. What is the result of the overlap for $\\phi_a$  and $\\phi_b$ if the number of points = 3?\n",
    "4. How can you explain these results?\n"
   ]
  },
  {
   "cell_type": "markdown",
   "metadata": {},
   "source": [
    "## 2.8  Extra Examples\n",
    "Below we apply the described methods to relevant physical chemistry problems taken from McQuarrie and Simon Physical Chemistry: A Molecular Approach textbook. \n"
   ]
  },
  {
   "cell_type": "markdown",
   "metadata": {},
   "source": [
    "### a.\n",
    "\n",
    "The heat capacity of a monoatomic crystal is given by\n",
    "$$C_v\\ =\\ 9R\\left(\\frac{T}{\\Theta_D}\\right)^3\\int_0^{\\Theta_D/T}\\frac{x^4e^x}{(e^x-1)^2}dx$$\n",
    "\n",
    "where $\\Theta_D$ is the Debeye temperature, a parameter characteristic of a crystalline substance, and $R$ is the molar gas constant. Given that $\\Theta_D\\ =\\ 309\\ \\text{K}$ for copper calculate the molar heat capacity of copper at $103\\ \\text{K}$."
   ]
  },
  {
   "cell_type": "code",
   "execution_count": null,
   "metadata": {},
   "outputs": [],
   "source": [
    "def f(x):\n",
    "    cv = 9.0 * 8.314 * (103. / 309.)**3 * ((x**4 * syp.exp(x)) / (syp.exp(x) - 1)**2)\n",
    "    return cv\n",
    "\n",
    "a = 1e-6\n",
    "b = 309 / 103.\n",
    "n = 100\n",
    "answer_a = dict()\n"
   ]
  },
  {
   "cell_type": "markdown",
   "metadata": {},
   "source": [
    "** Midpoint **"
   ]
  },
  {
   "cell_type": "code",
   "execution_count": null,
   "metadata": {},
   "outputs": [],
   "source": [
    "integral_estimator = Cmidpoint(a, b, f, n)\n",
    "method = 'Midpoint'\n",
    "print('Method: {}'.format(method))\n",
    "print('Answer = {:.6E}'.format(integral_estimator))\n",
    "answer_a[method] = integral_estimator\n"
   ]
  },
  {
   "cell_type": "code",
   "execution_count": null,
   "metadata": {},
   "outputs": [],
   "source": [
    "pf.plot_midpoint_func(a, b, f, 8)"
   ]
  },
  {
   "cell_type": "markdown",
   "metadata": {},
   "source": [
    "** Trapezoidal **"
   ]
  },
  {
   "cell_type": "code",
   "execution_count": null,
   "metadata": {},
   "outputs": [],
   "source": [
    "integral_estimator = Ctrapezoid(a, b, f, n)\n",
    "method = 'Trapezoidal'\n",
    "print('Method: {}'.format(method))\n",
    "print('Answer = {:.6E}'.format(integral_estimator))\n",
    "answer_a[method] = integral_estimator\n"
   ]
  },
  {
   "cell_type": "code",
   "execution_count": null,
   "metadata": {},
   "outputs": [],
   "source": [
    "pf.plot_trapezoidal_func(a, b, f, 8)"
   ]
  },
  {
   "cell_type": "markdown",
   "metadata": {},
   "source": [
    "** Simpson's**"
   ]
  },
  {
   "cell_type": "code",
   "execution_count": null,
   "metadata": {},
   "outputs": [],
   "source": [
    "integral_estimator = Csimpson(a, b, f, n)\n",
    "method = \"Simpson's\"\n",
    "print('Method: {}'.format(method))\n",
    "print('Answer = {:.6E}'.format(integral_estimator))\n",
    "answer_a[method] = integral_estimator"
   ]
  },
  {
   "cell_type": "code",
   "execution_count": null,
   "metadata": {},
   "outputs": [],
   "source": [
    "pf.plot_simpsons_func(a, b, f, 8)"
   ]
  },
  {
   "cell_type": "markdown",
   "metadata": {},
   "source": [
    "** Gaussian Quadrature **"
   ]
  },
  {
   "cell_type": "code",
   "execution_count": null,
   "metadata": {},
   "outputs": [],
   "source": [
    "m = 8\n",
    "integral_estimator = gaussian_quadrature(a, b, f, m)\n",
    "method = 'Gaussian'\n",
    "print('Method: {}'.format(method))\n",
    "print('Answer = {:.6E}'.format(integral_estimator))\n",
    "answer_a[method] = integral_estimator"
   ]
  },
  {
   "cell_type": "code",
   "execution_count": null,
   "metadata": {},
   "outputs": [],
   "source": [
    "pf.plot_gaussian_func(a, b, f, 8)"
   ]
  },
  {
   "cell_type": "markdown",
   "metadata": {},
   "source": [
    "** Monte Carlo **"
   ]
  },
  {
   "cell_type": "code",
   "execution_count": null,
   "metadata": {},
   "outputs": [],
   "source": [
    "integral_estimator, uncertainty = MonteCarlo(a, b, f, n)\n",
    "method = 'Monte Carlo'\n",
    "print('Method: {}'.format(method))\n",
    "print('Answer = {:.6E}'.format(integral_estimator))\n",
    "print('uncertainty: +/- {:.6E}'.format(uncertainty))\n",
    "answer_a[method] = integral_estimator\n"
   ]
  },
  {
   "cell_type": "code",
   "execution_count": null,
   "metadata": {},
   "outputs": [],
   "source": [
    "pf.plot_MonteCarlo_func(a, b, f, 8)"
   ]
  },
  {
   "cell_type": "code",
   "execution_count": null,
   "metadata": {},
   "outputs": [],
   "source": [
    "print(\"{:-^39}\".format(\"\"))\n",
    "print(\"{:^25} : {:^11}\".format(\"Method\", \"Answer\"))\n",
    "print(\"{:->25}   {:->11}\".format(\"\", \"\"))\n",
    "for i in sorted(answer_a, key=answer_a.get, reverse=True):\n",
    "    print(\"{:>25} : {:>.5E}\".format(i, answer_a[i]))\n",
    "print(\"{:-^39}\".format(\"\"))"
   ]
  },
  {
   "cell_type": "markdown",
   "metadata": {},
   "source": [
    "### **b.**\n",
    " The constant-pressure molar heat capacity of O$_2$(g) from $300 \\text{K}$ to $1200 \\text{K}$ is given by\n",
    " \n",
    "$$\\bar{C_p}(T)/\\text{J} \\text{K}^{-1}\\text{mol}^{-1} = 25.72\\ +\\ (12.98 \\times 10^{-3} \\text{K}^{-1})T - (38.62 \\times 10^{-7}\\text{K}^{-2})T^2$$ \n",
    "\n",
    "where $T$ is in kelvin. Calculate the value of $\\Delta \\bar{S}$, the total entropy change, when one mole of O$_2$ (g) is heated at constant pressure from $300 \\text{K}$ to $1200 \\text{K}$. \n",
    "\n",
    "For this example,$\\Delta \\bar{S}$ is given by the integral: \n",
    "$$\\Delta \\bar{S} = \\int_{T_1}^{T_2} \\frac{\\bar{C}_P(T)}{T}dT$$\n",
    "plugging in our expression for $\\bar{C_p}(T)$,\n",
    "$$\\Delta \\bar{S} = \\int\\limits_{300\\ K}^{1200\\ K} \\frac{25.72}{T}dT + \\int\\limits_{300\\ K}^{1200\\ K} (12.98 \\times 10^{-3} \\text{K}^{-1})dT - \\int\\limits_{300\\ K}^{1200\\ K} (38.62 \\times 10^{-7}\\text{K}^{-2})TdT$$"
   ]
  },
  {
   "cell_type": "code",
   "execution_count": null,
   "metadata": {},
   "outputs": [],
   "source": [
    "def f(x):\n",
    "    return (25.72 / x) + 12.98e-3 - 38.62e-7 * x\n",
    "a = 300\n",
    "b = 1200\n",
    "n = 1000\n",
    "answer_b = dict()"
   ]
  },
  {
   "cell_type": "markdown",
   "metadata": {},
   "source": [
    "** Midpoint **"
   ]
  },
  {
   "cell_type": "code",
   "execution_count": null,
   "metadata": {},
   "outputs": [],
   "source": [
    "integral_estimator = Cmidpoint(a, b, f, n)\n",
    "method = 'Midpoint'\n",
    "print('Method: {}'.format(method))\n",
    "print('Answer = {:.6E}'.format(integral_estimator))\n",
    "answer_b[method] = integral_estimator"
   ]
  },
  {
   "cell_type": "code",
   "execution_count": null,
   "metadata": {},
   "outputs": [],
   "source": [
    "pf.plot_midpoint_func(a, b, f, 8)"
   ]
  },
  {
   "cell_type": "markdown",
   "metadata": {},
   "source": [
    "** Trapezoidal **"
   ]
  },
  {
   "cell_type": "code",
   "execution_count": null,
   "metadata": {},
   "outputs": [],
   "source": [
    "integral_estimator = Ctrapezoid(a, b, f, n)\n",
    "method = 'Trapezoidal'\n",
    "print('Method: {}'.format(method))\n",
    "print('Answer = {:.6E}'.format(integral_estimator))\n",
    "answer_b[method] = integral_estimator"
   ]
  },
  {
   "cell_type": "code",
   "execution_count": null,
   "metadata": {},
   "outputs": [],
   "source": [
    "pf.plot_trapezoidal_func(a, b, f, 8)"
   ]
  },
  {
   "cell_type": "markdown",
   "metadata": {},
   "source": [
    "** Simpson's **"
   ]
  },
  {
   "cell_type": "code",
   "execution_count": null,
   "metadata": {},
   "outputs": [],
   "source": [
    "integral_estimator = Csimpson(a, b, f, n)\n",
    "method = \"Simpson's\"\n",
    "print('Method: {}'.format(method))\n",
    "print('Answer = {:.6E}'.format(integral_estimator))\n",
    "answer_b[method] = integral_estimator"
   ]
  },
  {
   "cell_type": "code",
   "execution_count": null,
   "metadata": {},
   "outputs": [],
   "source": [
    "pf.plot_simpsons_func(a, b, f, 8)"
   ]
  },
  {
   "cell_type": "markdown",
   "metadata": {},
   "source": [
    "** Gaussian Quadrature **"
   ]
  },
  {
   "cell_type": "code",
   "execution_count": null,
   "metadata": {},
   "outputs": [],
   "source": [
    "m = 8\n",
    "integral_estimator = gaussian_quadrature(a, b, f, m)\n",
    "method = 'Gaussian'\n",
    "print('Method: {}'.format(method))\n",
    "print('Answer = {:.6E}'.format(integral_estimator))\n",
    "answer_b[method] = integral_estimator"
   ]
  },
  {
   "cell_type": "code",
   "execution_count": null,
   "metadata": {
    "scrolled": true
   },
   "outputs": [],
   "source": [
    "pf.plot_gaussian_func(a, b, f, 8)"
   ]
  },
  {
   "cell_type": "markdown",
   "metadata": {},
   "source": [
    "** Monte Carlo **"
   ]
  },
  {
   "cell_type": "code",
   "execution_count": null,
   "metadata": {
    "scrolled": true
   },
   "outputs": [],
   "source": [
    "#############\n",
    "# MAIN CODE #\n",
    "#############\n",
    "integral_estimator, uncertainty = MonteCarlo(a, b, f, n)\n",
    "method = 'Monte Carlo'\n",
    "print('Method: {}'.format(method))\n",
    "print('Answer = {:.6E}'.format(integral_estimator))\n",
    "print('uncertainty: +/- {:.6E}'.format(uncertainty))\n",
    "answer_b[method] = integral_estimator"
   ]
  },
  {
   "cell_type": "code",
   "execution_count": null,
   "metadata": {
    "scrolled": true
   },
   "outputs": [],
   "source": [
    "pf.plot_MonteCarlo_func(a, b, f, 8)"
   ]
  },
  {
   "cell_type": "code",
   "execution_count": null,
   "metadata": {},
   "outputs": [],
   "source": [
    "print(\"{:-^39}\".format(\"\"))\n",
    "print(\"{:^25} : {:^11}\".format(\"Method\", \"Answer\"))\n",
    "print(\"{:->25}   {:->11}\".format(\"\", \"\"))\n",
    "for i in sorted(answer_b, key=answer_a.get, reverse=True):\n",
    "    print(\"{:>25} : {:>.5E}\".format(i, answer_a[i]))\n",
    "print(\"{:-^39}\".format(\"\"))\n"
   ]
  }
 ],
 "metadata": {
  "kernelspec": {
   "display_name": "Python 3",
   "language": "python",
   "name": "python3"
  },
  "language_info": {
   "codemirror_mode": {
    "name": "ipython",
    "version": 3
   },
   "file_extension": ".py",
   "mimetype": "text/x-python",
   "name": "python",
   "nbconvert_exporter": "python",
   "pygments_lexer": "ipython3",
   "version": "3.6.5"
  }
 },
 "nbformat": 4,
 "nbformat_minor": 1
}
