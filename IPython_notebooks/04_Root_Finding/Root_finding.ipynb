{
 "cells": [
  {
   "cell_type": "markdown",
   "metadata": {},
   "source": [
    "# 4 Root-Finding Methods\n",
    "Root-finding can help us solve many chemical problems. A few example areas in which root finding may be of use is quantum mechanics, acid/base titration, and kinetics."
   ]
  },
  {
   "cell_type": "markdown",
   "metadata": {},
   "source": [
    "In order to numerically find the root(s) of a function, there are several methods that can be employed. \n",
    "Here we will explore the Bisection, Secant, Newton-Raphson, and Halley's methods. \n",
    "To illustrate how these methods work, we will look at the following function: $$f(x)\\ =\\ 0.5 x^3 + 0.25 x -7$$\n",
    "\n",
    "A plot of the function can be seen below. Visually, we can see the root occurs between $2 < x < 3$. \n",
    "\n",
    "For these numerical root finding algorithms, guesses are iteratively improved until the difference between the old guess and the new guess is less than a defined threshold.\n",
    "This threshold is called the convergence threshold.\n",
    "The rate of convergence for each method can be defined as the number of steps required to reach this convergence threshold.\n",
    "Compare the number of steps for each method below for the same convergence threshold.\n",
    "This variable is set in the 2nd code block below as \"tolerance\".\n",
    "\n",
    "In this first code block we are importing necessary libraries, followed by definitions of tolerance and the function we want to explore."
   ]
  },
  {
   "cell_type": "code",
   "execution_count": null,
   "metadata": {
    "collapsed": true
   },
   "outputs": [],
   "source": [
    "##########\n",
    "# IMPORTS\n",
    "##########\n",
    "# These are packages needed to perform the math and visualization\n",
    "import numpy as np\n",
    "import IPython\n",
    "from IPython.display import Math\n",
    "import matplotlib.pyplot as plt\n",
    "import sympy as syp\n",
    "x, y, z = syp.symbols('x y z')\n",
    "import rf_helper_functions as pf\n",
    "%matplotlib notebook\n"
   ]
  },
  {
   "cell_type": "code",
   "execution_count": null,
   "metadata": {
    "collapsed": true
   },
   "outputs": [],
   "source": [
    "##########\n",
    "# GLOBAL VARIABLES\n",
    "##########\n",
    "tolerance = 1e-6\n",
    "steps_per_method = dict()\n",
    "##########\n",
    "# FUNCTIONS\n",
    "##########\n",
    "\n",
    "\n",
    "def f(x):\n",
    "    return .5 * x**3 + .25 * x - 7\n",
    "\n",
    "\n",
    "def fprime(x):\n",
    "    return 3 * .5 * x**2 + .25\n",
    "\n",
    "\n",
    "def fdoubleprime(x):\n",
    "    return 2 * 3 * .5 * x"
   ]
  },
  {
   "cell_type": "code",
   "execution_count": null,
   "metadata": {
    "collapsed": true
   },
   "outputs": [],
   "source": [
    "pf.plotf_func(-5, 5, f)"
   ]
  },
  {
   "cell_type": "markdown",
   "metadata": {},
   "source": [
    "## 4.1 Bisection Method\n",
    "\n",
    "For finding roots, the bisection method is a conceptually simple starting point.\n",
    "If a function $f(x)$ changes sign between the points $a$ and $b$, then it must pass through zero. The root therefore must be inbetween $a$ and $b$.\n",
    "You may have learned this approach as the intermediate value theorem. \n",
    "\n",
    "The bisection method begins by taking initial guesses $a$ and $b$ that are on either side of a root.\n",
    "A guess of the root is taken as the midpoint, $c\\ =\\ \\frac{a+b}{2}$.\n",
    "If a sign change occurs between $a$ and $c$, then the root must occur in this region. Otherwise the root is in the $b$ to $c$ region.\n",
    "A new bisection is taken in the region containing the root. \n",
    "This process is repeated until the tolerance is reached.\n",
    "This method guarantees convergence, but tends to be very slow.\n",
    "Often, this method is used to find a starting guess for more efficient root finding methods. \n",
    "A visualization of the bisection method is shown below.\n",
    "\n",
    "<img src=\"gif/Bisection.gif\" width=\"500\"/>"
   ]
  },
  {
   "cell_type": "code",
   "execution_count": null,
   "metadata": {
    "collapsed": true
   },
   "outputs": [],
   "source": [
    "##########\n",
    "# FUNCTIONS\n",
    "##########\n",
    "\n",
    "\n",
    "def midpoint(a, b):\n",
    "    c = (a + b) / 2.\n",
    "    return c\n",
    "\n",
    "##########\n",
    "# MAIN CODE\n",
    "##########\n",
    "converged = False\n",
    "num_steps = 0\n",
    "a = 0\n",
    "b = 10\n",
    "while not converged:\n",
    "    c = midpoint(a, b)\n",
    "    if np.sign(f(c)) == np.sign(f(a)):\n",
    "        a = c\n",
    "    else:\n",
    "        b = c\n",
    "    if abs((b - a) / 2.0) < tolerance:\n",
    "        converged = True\n",
    "    num_steps += 1\n",
    "method = \"Bisection\"\n",
    "steps_per_method[method] = num_steps\n",
    "print(\"Method: {}\".format(method))\n",
    "print(\"Root = {:.5f}\".format(c))\n",
    "print(\"Number of steps = {}\".format(num_steps))\n"
   ]
  },
  {
   "cell_type": "markdown",
   "metadata": {},
   "source": [
    "## 4.2 Secant Method\n",
    "\n",
    "The secant method evaluates $f(x)$ with an initial guess at two points ($x_0$ and $x_1$) near the root.\n",
    "The root of the secant line between these two points is used to find a new guess ($x_2$).\n",
    "This oldest point is discarded and the process is repeated with $x_1$ and $x_2$.\n",
    "The method proceeds until the difference in guesses is below the threshold.\n",
    "The secant line is defined by the equation below:\n",
    "$$ y\\ =\\ \\frac{f(x_1)\\ -\\ f(x_0)}{x_1\\ -\\ x_0}(x_2-x_1)\\ +\\ f(x_1)$$\n",
    "\n",
    "To find the root of the secant line, we set $y=0$:\n",
    "$$ 0\\ =\\ \\frac{f(x_1)\\ -\\ f(x_0)}{x_1\\ -\\ x_0}(x_2\\ -\\ x_1)\\ +\\ f(x_1)$$\n",
    "\n",
    "and rearrange to solve for $x_2$. The result is:\n",
    "\n",
    "$$x_2\\ =\\ x_1\\ -\\ f(x_1)\\frac{x_1\\ -\\ x_0}{f(x_1)\\ -\\ f(x_0)}$$\n",
    "\n",
    "The iteration of this process results in the following recurrence relation:\n",
    "\n",
    "$$x_n = x_{n-1}\\ -\\ f(x_{n-1})\\frac{x_{n-1}\\ -\\ x_{n-2}}{f(x_{n-1})\\ -\\ f(x_{n-2})}$$\n",
    "\n",
    "The figure below will demonstrate the progression secant method.\n",
    "<img src=\"gif/secant.gif\" width=\"500\"/>"
   ]
  },
  {
   "cell_type": "code",
   "execution_count": null,
   "metadata": {
    "collapsed": true
   },
   "outputs": [],
   "source": [
    "##########\n",
    "# MAIN CODE\n",
    "##########\n",
    "x_old = 8\n",
    "x_new = 7\n",
    "num_steps = 0\n",
    "converged = False\n",
    "while not converged:\n",
    "    temp = x_new\n",
    "    x_new = x_new - (f(x_new) * ((x_new - x_old) / (f(x_new) - f(x_old))))\n",
    "    x_old = temp\n",
    "    num_steps += 1\n",
    "    if np.abs(x_new - x_old) < tolerance:\n",
    "        converged = True\n",
    "method = \"Secant\"\n",
    "steps_per_method[method] = num_steps\n",
    "print(\"Method: {}\".format(method))\n",
    "print(\"Root = {:.5f}\".format(x_new))\n",
    "print(\"Number of steps = {}\".format(num_steps))\n"
   ]
  },
  {
   "cell_type": "markdown",
   "metadata": {},
   "source": [
    "## 4.3 Netwon-Raphson Method\n",
    "\n",
    "The Newton-Raphson method utilizes a tangent line rather than the secant line.\n",
    "The tangent line requires the first derivative of our function, $f'(x)$, to be known. \n",
    "The method begins by taking an initial guess $x_0$.\n",
    "A subsequent guess ($x_1$) can be found by using the following equation of the line tangent to $f(x)$ at $x_0$: \n",
    "$$y\\ =\\ f'(x_0)(x\\ -\\ x_0)\\ +\\ f(x_0)$$\n",
    "\n",
    "The root of this tangent line gives the subsequent guess. To find that root, $y$ is set to $0$:\n",
    "\n",
    "$$0\\ =\\ f'(x_0)(x_1\\ -\\ x_0)\\ +\\ f(x_0)$$\n",
    "\n",
    "This can be rearranged to find $x_1$:\n",
    "\n",
    "$$x_1\\ =\\ x_0\\ -\\ \\frac{f(x_0)}{f'(x_0)}$$\n",
    "\n",
    "Iteration of this process results in the following recurrence relation:\n",
    "\n",
    "$$x_n\\ =\\ x_{n-1}\\ -\\ \\frac{f(x_{n-1})}{f'(x_{n-1})}$$\n",
    "\n",
    "Below is a diagram that illustrates the iterative Newton-Raphson method.\n",
    "<img src=\"gif/Newton.gif\" width=\"500\"/>"
   ]
  },
  {
   "cell_type": "code",
   "execution_count": null,
   "metadata": {
    "collapsed": true
   },
   "outputs": [],
   "source": [
    "##########\n",
    "# MAIN CODE\n",
    "##########\n",
    "converged = False\n",
    "x_new = 7\n",
    "num_steps = 0\n",
    "while not converged:\n",
    "    x_old = x_new\n",
    "    x_new = x_old - (f(x_old) / (fprime(x_old)))\n",
    "    num_steps += 1\n",
    "    if np.abs(x_new - x_old) < tolerance:\n",
    "        converged = True\n",
    "\n",
    "method = \"Newton-Raphson\"\n",
    "steps_per_method[method] = num_steps\n",
    "print(\"Method: {}\".format(method))\n",
    "print(\"Root = {:.5f}\".format(x_new))\n",
    "print(\"Number Steps = {}\".format(num_steps))\n"
   ]
  },
  {
   "cell_type": "markdown",
   "metadata": {},
   "source": [
    "# 3.4 Extensions \n",
    "\n",
    "The methods presented here are the most common root finding methods, but they are not the only options. One example of further root finding methods is Halley's method. When evaluating the root of a function, methods that incorporate a derivative of the function are known as Householder methods.  For instance, the Newton-Raphson method (discussed above) utilizes the first derivative of the function and is known as a 1st class Householder method.  Second in the class of Householder methods is Halley's method, which incorporates the second derivative of the function. \n",
    "\n",
    "Halley's formula is very similar to the Newton-Raphson, but incorporates the second derivative in the denominator.  This correction is useful if it can be calculated easily. Due to the absence of a known second-derivative in many relevant physical chemistry problems, this method is often only applied for theoretical problems. If unable to be calculated with ease, it is more useful to carry out additional steps of Newton-Raphson.\n",
    "\n",
    "Halley's method is not widely implemented due to the necessity of calculating the second derivative. If a second derivative is avalable, Halley's method is able to outperform Newton's method within a certain number of steps. Below we show a comparison of Newton's method and Halley's method. After beginning at the same starting guess of the root, Halley's method is able to get much closer to the root within the four steps shown.\n",
    "\n",
    "<img src=\"gif/combined.gif\" width=\"800\"/>"
   ]
  },
  {
   "cell_type": "markdown",
   "metadata": {},
   "source": [
    "# Summary of Results\n",
    "Choosing from the many methods that exist for numerical root finding may be overwhelming.\n",
    "\n",
    "First, it is important to consider the number of steps required for convergence. Below the number of steps required to reach the defined convergence threshold are tabulated."
   ]
  },
  {
   "cell_type": "code",
   "execution_count": null,
   "metadata": {
    "collapsed": true
   },
   "outputs": [],
   "source": [
    "print(\"{:->28}\".format(\"\"))\n",
    "print(\"{:^20} : {:>5}\".format(\"Method\", \"Steps\"))\n",
    "print(\"{:-^20}   {:->5}\".format(\"\", \"\"))\n",
    "for i in sorted(steps_per_method, key=steps_per_method.get, reverse=True):\n",
    "    print(\"{:^20} : {:>5}\".format(i, steps_per_method[i]))\n",
    "print(\"{:->28}\".format(\"\"))"
   ]
  },
  {
   "cell_type": "markdown",
   "metadata": {},
   "source": [
    "If the function is inexpensive to evaluate and the first and second derivatives can be evaluated analytically, we would choose Halley's Method. However, if the function and its derivatives are expensive to evaluate, then Newton-Raphson may be preferable as it does not require the second derivative. The secant and bisection methods do not require derivatives, which would be preferable if analytical derivatives are not available. The choice of method is usually a trade-off between the number of steps and the time required to calculate each step."
   ]
  },
  {
   "cell_type": "markdown",
   "metadata": {},
   "source": [
    "# Nodes of 3s orbital\n",
    "\n",
    "The nodes of an atomic orbital are places where there is zero probability of finding the electron. These nodes are the roots of the orbital function. Let's use numerical methods to find the radial nodes of a 3s orbital given the following radial function. \n",
    "\n",
    "$$ 3s(r)\\ =\\ 2 \\left( \\frac{Z}{3a_0} \\right)^{3/2} \\left( 1 - \\frac{2Zr}{3a_0} +\\frac{2(Zr)^2}{27a_0^2} \\right) e^{-Zr/3a_0}$$\n",
    "\n",
    "where Z if the nuclear charge, $a_0$ is a constant and $r$ is the distance from the origin.\n",
    "\n",
    "# Your task!\n",
    "1. Define a function called `3s()` which calculates the function above. \n",
    "2. Ensure your function takes three input arguments in the following order: $Z$, $a0$, and $r$. \n",
    "3. Don't forget to replace the question marks the the right of `return` with the appropriate value to return from the function!\n",
    "2. Test your function with the second code block below. \n",
    "\n",
    "Hints:\n",
    "1. Remember that when coding an expression such as $2Zr$ to multiply $2$ by $Z$ by $r$, we must write `2*Z*r`.\n",
    "2. We learned in the Introduction notebook that for some math function rely on external libraries. Here to code $e^{stuff}$, we will write this as `np.exp(stuff)`. In other words, we represent $e$ with `np.exp()` and any terms we needed exponentiated will go in the parentheses. "
   ]
  },
  {
   "cell_type": "code",
   "execution_count": null,
   "metadata": {
    "collapsed": true
   },
   "outputs": [],
   "source": [
    "## code your function here\n",
    "def calc_3s(Z,a,r):\n",
    "    a = 2.*((Z/(3*a0))**(3./2.))\n",
    "    b =(1 - ((2*Z*r)/(3*a0))+((2*(Z*r)**2)/(27*(a0**2))))\n",
    "    c = np.exp(-(Z*r)/(3*a0))\n",
    "    sol = a*b*c\n",
    "    return sol\n"
   ]
  },
  {
   "cell_type": "code",
   "execution_count": null,
   "metadata": {
    "collapsed": true
   },
   "outputs": [],
   "source": [
    "Z = 6\n",
    "a0 = 1\n",
    "r = 5\n",
    "\n",
    "pf.check_R30(calc_3s,Z,a0,r)"
   ]
  },
  {
   "cell_type": "markdown",
   "metadata": {},
   "source": [
    "Now that you have correctly coded the example function above, we can find roots of this s orbital function. The nodal position will shift in position as the charge of the nuclei changes. We are going to use the bisection method to track this down. We are using this method for two reasons: it does not require a first derivative and it is guarunteed to converge (although it may take many iterations.)\n",
    "\n",
    "We will observe how the starting guess in root finding will affect the estimate. \n",
    "\n",
    "# Your task! (continuted)\n",
    "To complete this task, you will run the cell block below **without changing anything**.\n",
    "Continue to the text block below for furhter instruction\n"
   ]
  },
  {
   "cell_type": "code",
   "execution_count": null,
   "metadata": {
    "collapsed": true
   },
   "outputs": [],
   "source": [
    "from notebook import *\n",
    "import numpy as np\n",
    "import matplotlib.pyplot as plt\n",
    "from matplotlib.widgets import Slider, Button\n",
    "import scipy.constants as sc\n",
    "\n",
    "\n",
    "def bisection(a,b,f,Z,a0):\n",
    "    tolerance = 0.000001\n",
    "    converged = False\n",
    "    num_steps = 0\n",
    "    while not converged:\n",
    "        c = midpoint(a,b)\n",
    "        if np.sign(f(Z,a0,c)) == np.sign(f(Z,a0,a)):\n",
    "            a = c\n",
    "        else:\n",
    "            b = c\n",
    "        if abs((b - a) / 2.0) < tolerance:\n",
    "            converged = True\n",
    "        num_steps += 1\n",
    "    return c\n",
    "\n",
    "\n",
    "\n",
    "def pylt(root1,root2,Z,a0):\n",
    "    distance = np.linspace(-0.3,4,100)\n",
    "    fig,ax = plt.subplots(figsize=(8,4),facecolor='white')\n",
    "    plt.grid(True)\n",
    "    plt.xlabel('r')\n",
    "    plt.ylabel('R')    \n",
    "    R = calc_3s(Z,a0,distance)\n",
    "    root_real = bisection(root1,root2,calc_3s,Z,a0)\n",
    "    line, = ax.plot(distance, R ,label = '$R_{3s}$')\n",
    "    root_g1, = ax.plot(root1,calc_3s(Z,a0,root1), linestyle='',marker='.', markersize = 20, color = 'gray')\n",
    "    root_g2, = ax.plot(root2,calc_3s(Z,a0,root2), linestyle='',marker='.', markersize = 20, color = 'gray')\n",
    "    root_r, = ax.plot(root_real,calc_3s(Z,a0,root_real), linestyle='',marker='.',color = 'red')\n",
    "    root_annotation = ax.annotate(r'root = {:.2f}'.format(root_real), xy = (max(distance)*0.7,max(R)*0.6))\n",
    "    f_annotation = ax.annotate(r\"$f(root)$ = {:.2f}\".format(calc_3s(Z,a0,root_real)), xy = (max(distance)*0.7,0.5*max(R)))\n",
    "    plt.legend()\n",
    "    plt.show()\n",
    "\n",
    "interact(pylt,root1=(0.,4.),root2=(0.,4.),Z=(3,35),a0=fixed(a0))\n"
   ]
  },
  {
   "cell_type": "markdown",
   "metadata": {
    "collapsed": true
   },
   "source": [
    "For each value of Z, there will be two nodes in the 3-s wavefunction. We are going to locate these two roots as Z changes using the bisection method defined above. \n",
    "\n",
    "## Your Task (continued)\n",
    "1. Move the Z value to be close to 12\n",
    "2. Move the root 2 guess to somewhere left of the root.\n",
    "3. Move the root 1 guess to somewhere right of the root.\n",
    "4. Record where your Z value and  the value of the two roots you find.\n",
    "5. Repeat steps 1-4 for Z values = 3,7, 20, 35\n",
    "6. What happens to the position of the node as Z increase?\n",
    "7. Why do you think this happens?\n"
   ]
  }
 ],
 "metadata": {
  "anaconda-cloud": {},
  "kernelspec": {
   "display_name": "Python 3",
   "language": "python",
   "name": "python3"
  },
  "language_info": {
   "codemirror_mode": {
    "name": "ipython",
    "version": 3
   },
   "file_extension": ".py",
   "mimetype": "text/x-python",
   "name": "python",
   "nbconvert_exporter": "python",
   "pygments_lexer": "ipython3",
   "version": "3.6.5"
  }
 },
 "nbformat": 4,
 "nbformat_minor": 1
}
